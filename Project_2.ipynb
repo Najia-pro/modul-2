{
 "cells": [
  {
   "cell_type": "markdown",
   "metadata": {},
   "source": [
    "# Проект 2. Разведывательный анализ данных."
   ]
  },
  {
   "cell_type": "markdown",
   "metadata": {},
   "source": [
    "## План работы\n",
    "\n",
    "1. Загрузка библиотек и данных\n",
    "2. Анализ номинативных переменных\n",
    "3. Анализ количественных переменных\n",
    "4. Заполнение пробелов в выбранных переменных\n",
    "5. Корреляционный анализ с учетом заполненных пробелов\n",
    "6. Выводы\n",
    "\n",
    "## Подход в обработке и анализе данных\n",
    "\n",
    "1. Значение score имеют очень важное значение, поэтому данные без оценки я не рассматриваю, убираю их.\n",
    "2. Использую попарное сопоставление исследуемого столбца со значениями score. При попарной выборке убираю пропуски и сильные выбросы. Считаю корреляцию и p-value. Параллельно проверяю попарную корреляцию. И убираю явно лишнее.\n",
    "3. Для номинатиных переменных делаю тоже самое, заменив номинативные переменнные на численные. Для этого создаю список уникальных значений. И в качестве значения беру индекс перемнной в этом списке. Это позволяет достаточно быстро обработать все данные и сделать выводы. \n",
    "4. Для номинативных данных использую и второй вариант, сравнение значений средних score по группам значений в столбце. Отбираю и анализирую переменные более подробно.\n",
    "5. Кроме этого для этих переменных построены боксплоты со score, где наглядно выдны те переменные, которые не влияют на score существенным образом.\n",
    "6. Сузив список переменных, занимаюсь более детальным анализом оставшихся данных с заполнением пропусков. Далее провожу итоговый корреляционный анализ.\n",
    "7. Для заполнения пропусков использованы разные подходы. Так, в столбце адрес заполнение в зависимости от того, куда ближе значение к среднему по U или среднему по R. В каких то случаях заполнено по среднему, в каких-то по наиболее часто встречающемуся. Явные выбросы исправлены на среднее. Где есть выбросы по сравнению с межквартильным размахом, но все в пределах референсных значений все оставлено, как есть.\n",
    "8. В качестве границы отсечения взято p-value = 0.05."
   ]
  },
  {
   "cell_type": "markdown",
   "metadata": {},
   "source": [
    "## 1. Загрузка библиотек и данных"
   ]
  },
  {
   "cell_type": "code",
   "execution_count": 1,
   "metadata": {},
   "outputs": [],
   "source": [
    "import pandas as pd\n",
    "from itertools import combinations\n",
    "from scipy.stats import ttest_ind\n",
    "from scipy.stats.stats import pearsonr\n",
    "import seaborn as sns\n",
    "import matplotlib.pyplot as plt\n",
    "\n",
    "data = pd.read_csv('stud_math.csv')\n",
    "stud = data[data.score>0]"
   ]
  },
  {
   "cell_type": "code",
   "execution_count": 2,
   "metadata": {},
   "outputs": [
    {
     "data": {
      "text/html": [
       "<div>\n",
       "<style scoped>\n",
       "    .dataframe tbody tr th:only-of-type {\n",
       "        vertical-align: middle;\n",
       "    }\n",
       "\n",
       "    .dataframe tbody tr th {\n",
       "        vertical-align: top;\n",
       "    }\n",
       "\n",
       "    .dataframe thead th {\n",
       "        text-align: right;\n",
       "    }\n",
       "</style>\n",
       "<table border=\"1\" class=\"dataframe\">\n",
       "  <thead>\n",
       "    <tr style=\"text-align: right;\">\n",
       "      <th></th>\n",
       "      <th>school</th>\n",
       "      <th>sex</th>\n",
       "      <th>age</th>\n",
       "      <th>address</th>\n",
       "      <th>famsize</th>\n",
       "      <th>Pstatus</th>\n",
       "      <th>Medu</th>\n",
       "      <th>Fedu</th>\n",
       "      <th>Mjob</th>\n",
       "      <th>Fjob</th>\n",
       "      <th>...</th>\n",
       "      <th>studytime, granular</th>\n",
       "      <th>higher</th>\n",
       "      <th>internet</th>\n",
       "      <th>romantic</th>\n",
       "      <th>famrel</th>\n",
       "      <th>freetime</th>\n",
       "      <th>goout</th>\n",
       "      <th>health</th>\n",
       "      <th>absences</th>\n",
       "      <th>score</th>\n",
       "    </tr>\n",
       "  </thead>\n",
       "  <tbody>\n",
       "    <tr>\n",
       "      <th>0</th>\n",
       "      <td>GP</td>\n",
       "      <td>F</td>\n",
       "      <td>18</td>\n",
       "      <td>U</td>\n",
       "      <td>NaN</td>\n",
       "      <td>A</td>\n",
       "      <td>4.0</td>\n",
       "      <td>4.0</td>\n",
       "      <td>at_home</td>\n",
       "      <td>teacher</td>\n",
       "      <td>...</td>\n",
       "      <td>-6.0</td>\n",
       "      <td>yes</td>\n",
       "      <td>NaN</td>\n",
       "      <td>no</td>\n",
       "      <td>4.0</td>\n",
       "      <td>3.0</td>\n",
       "      <td>4.0</td>\n",
       "      <td>3.0</td>\n",
       "      <td>6.0</td>\n",
       "      <td>30.0</td>\n",
       "    </tr>\n",
       "    <tr>\n",
       "      <th>1</th>\n",
       "      <td>GP</td>\n",
       "      <td>F</td>\n",
       "      <td>17</td>\n",
       "      <td>U</td>\n",
       "      <td>GT3</td>\n",
       "      <td>NaN</td>\n",
       "      <td>1.0</td>\n",
       "      <td>1.0</td>\n",
       "      <td>at_home</td>\n",
       "      <td>other</td>\n",
       "      <td>...</td>\n",
       "      <td>-6.0</td>\n",
       "      <td>yes</td>\n",
       "      <td>yes</td>\n",
       "      <td>no</td>\n",
       "      <td>5.0</td>\n",
       "      <td>3.0</td>\n",
       "      <td>3.0</td>\n",
       "      <td>3.0</td>\n",
       "      <td>4.0</td>\n",
       "      <td>30.0</td>\n",
       "    </tr>\n",
       "    <tr>\n",
       "      <th>2</th>\n",
       "      <td>GP</td>\n",
       "      <td>F</td>\n",
       "      <td>15</td>\n",
       "      <td>U</td>\n",
       "      <td>LE3</td>\n",
       "      <td>T</td>\n",
       "      <td>1.0</td>\n",
       "      <td>1.0</td>\n",
       "      <td>at_home</td>\n",
       "      <td>other</td>\n",
       "      <td>...</td>\n",
       "      <td>-6.0</td>\n",
       "      <td>yes</td>\n",
       "      <td>yes</td>\n",
       "      <td>NaN</td>\n",
       "      <td>4.0</td>\n",
       "      <td>3.0</td>\n",
       "      <td>2.0</td>\n",
       "      <td>3.0</td>\n",
       "      <td>10.0</td>\n",
       "      <td>50.0</td>\n",
       "    </tr>\n",
       "    <tr>\n",
       "      <th>3</th>\n",
       "      <td>GP</td>\n",
       "      <td>F</td>\n",
       "      <td>15</td>\n",
       "      <td>U</td>\n",
       "      <td>GT3</td>\n",
       "      <td>T</td>\n",
       "      <td>4.0</td>\n",
       "      <td>2.0</td>\n",
       "      <td>health</td>\n",
       "      <td>NaN</td>\n",
       "      <td>...</td>\n",
       "      <td>-9.0</td>\n",
       "      <td>yes</td>\n",
       "      <td>yes</td>\n",
       "      <td>yes</td>\n",
       "      <td>3.0</td>\n",
       "      <td>2.0</td>\n",
       "      <td>2.0</td>\n",
       "      <td>5.0</td>\n",
       "      <td>2.0</td>\n",
       "      <td>75.0</td>\n",
       "    </tr>\n",
       "    <tr>\n",
       "      <th>4</th>\n",
       "      <td>GP</td>\n",
       "      <td>F</td>\n",
       "      <td>16</td>\n",
       "      <td>U</td>\n",
       "      <td>GT3</td>\n",
       "      <td>T</td>\n",
       "      <td>3.0</td>\n",
       "      <td>3.0</td>\n",
       "      <td>other</td>\n",
       "      <td>other</td>\n",
       "      <td>...</td>\n",
       "      <td>-6.0</td>\n",
       "      <td>yes</td>\n",
       "      <td>no</td>\n",
       "      <td>no</td>\n",
       "      <td>4.0</td>\n",
       "      <td>3.0</td>\n",
       "      <td>2.0</td>\n",
       "      <td>5.0</td>\n",
       "      <td>4.0</td>\n",
       "      <td>50.0</td>\n",
       "    </tr>\n",
       "  </tbody>\n",
       "</table>\n",
       "<p>5 rows × 30 columns</p>\n",
       "</div>"
      ],
      "text/plain": [
       "  school sex  age address famsize Pstatus  Medu  Fedu     Mjob     Fjob  ...  \\\n",
       "0     GP   F   18       U     NaN       A   4.0   4.0  at_home  teacher  ...   \n",
       "1     GP   F   17       U     GT3     NaN   1.0   1.0  at_home    other  ...   \n",
       "2     GP   F   15       U     LE3       T   1.0   1.0  at_home    other  ...   \n",
       "3     GP   F   15       U     GT3       T   4.0   2.0   health      NaN  ...   \n",
       "4     GP   F   16       U     GT3       T   3.0   3.0    other    other  ...   \n",
       "\n",
       "  studytime, granular higher  internet  romantic  famrel freetime goout  \\\n",
       "0                -6.0    yes       NaN        no     4.0      3.0   4.0   \n",
       "1                -6.0    yes       yes        no     5.0      3.0   3.0   \n",
       "2                -6.0    yes       yes       NaN     4.0      3.0   2.0   \n",
       "3                -9.0    yes       yes       yes     3.0      2.0   2.0   \n",
       "4                -6.0    yes        no        no     4.0      3.0   2.0   \n",
       "\n",
       "  health absences score  \n",
       "0    3.0      6.0  30.0  \n",
       "1    3.0      4.0  30.0  \n",
       "2    3.0     10.0  50.0  \n",
       "3    5.0      2.0  75.0  \n",
       "4    5.0      4.0  50.0  \n",
       "\n",
       "[5 rows x 30 columns]"
      ]
     },
     "execution_count": 2,
     "metadata": {},
     "output_type": "execute_result"
    }
   ],
   "source": [
    "stud.head()"
   ]
  },
  {
   "cell_type": "code",
   "execution_count": 3,
   "metadata": {},
   "outputs": [
    {
     "name": "stdout",
     "output_type": "stream",
     "text": [
      "<class 'pandas.core.frame.DataFrame'>\n",
      "Int64Index: 352 entries, 0 to 394\n",
      "Data columns (total 30 columns):\n",
      " #   Column               Non-Null Count  Dtype  \n",
      "---  ------               --------------  -----  \n",
      " 0   school               352 non-null    object \n",
      " 1   sex                  352 non-null    object \n",
      " 2   age                  352 non-null    int64  \n",
      " 3   address              338 non-null    object \n",
      " 4   famsize              328 non-null    object \n",
      " 5   Pstatus              311 non-null    object \n",
      " 6   Medu                 350 non-null    float64\n",
      " 7   Fedu                 331 non-null    float64\n",
      " 8   Mjob                 335 non-null    object \n",
      " 9   Fjob                 320 non-null    object \n",
      " 10  reason               337 non-null    object \n",
      " 11  guardian             323 non-null    object \n",
      " 12  traveltime           329 non-null    float64\n",
      " 13  studytime            345 non-null    float64\n",
      " 14  failures             332 non-null    float64\n",
      " 15  schoolsup            343 non-null    object \n",
      " 16  famsup               316 non-null    object \n",
      " 17  paid                 316 non-null    object \n",
      " 18  activities           340 non-null    object \n",
      " 19  nursery              340 non-null    object \n",
      " 20  studytime, granular  345 non-null    float64\n",
      " 21  higher               333 non-null    object \n",
      " 22  internet             323 non-null    object \n",
      " 23  romantic             323 non-null    object \n",
      " 24  famrel               328 non-null    float64\n",
      " 25  freetime             344 non-null    float64\n",
      " 26  goout                346 non-null    float64\n",
      " 27  health               339 non-null    float64\n",
      " 28  absences             342 non-null    float64\n",
      " 29  score                352 non-null    float64\n",
      "dtypes: float64(12), int64(1), object(17)\n",
      "memory usage: 61.9+ KB\n"
     ]
    }
   ],
   "source": [
    "stud.info()"
   ]
  },
  {
   "cell_type": "markdown",
   "metadata": {},
   "source": [
    "Видим, что из 31 столбца есть как количественные, которые можно замерить, так и другие. Рассмотрим сначала номинативные переменные."
   ]
  },
  {
   "cell_type": "markdown",
   "metadata": {},
   "source": [
    "## 2. Анализ номинативных переменных"
   ]
  },
  {
   "cell_type": "code",
   "execution_count": 4,
   "metadata": {},
   "outputs": [
    {
     "data": {
      "text/html": [
       "<div>\n",
       "<style scoped>\n",
       "    .dataframe tbody tr th:only-of-type {\n",
       "        vertical-align: middle;\n",
       "    }\n",
       "\n",
       "    .dataframe tbody tr th {\n",
       "        vertical-align: top;\n",
       "    }\n",
       "\n",
       "    .dataframe thead th {\n",
       "        text-align: right;\n",
       "    }\n",
       "</style>\n",
       "<table border=\"1\" class=\"dataframe\">\n",
       "  <thead>\n",
       "    <tr style=\"text-align: right;\">\n",
       "      <th></th>\n",
       "      <th>school</th>\n",
       "      <th>sex</th>\n",
       "      <th>address</th>\n",
       "      <th>famsize</th>\n",
       "      <th>Pstatus</th>\n",
       "      <th>Mjob</th>\n",
       "      <th>Fjob</th>\n",
       "      <th>reason</th>\n",
       "      <th>guardian</th>\n",
       "      <th>schoolsup</th>\n",
       "      <th>famsup</th>\n",
       "      <th>paid</th>\n",
       "      <th>activities</th>\n",
       "      <th>nursery</th>\n",
       "      <th>higher</th>\n",
       "      <th>internet</th>\n",
       "      <th>romantic</th>\n",
       "      <th>score</th>\n",
       "    </tr>\n",
       "  </thead>\n",
       "  <tbody>\n",
       "    <tr>\n",
       "      <th>0</th>\n",
       "      <td>GP</td>\n",
       "      <td>F</td>\n",
       "      <td>U</td>\n",
       "      <td>NaN</td>\n",
       "      <td>A</td>\n",
       "      <td>at_home</td>\n",
       "      <td>teacher</td>\n",
       "      <td>course</td>\n",
       "      <td>mother</td>\n",
       "      <td>yes</td>\n",
       "      <td>no</td>\n",
       "      <td>no</td>\n",
       "      <td>no</td>\n",
       "      <td>yes</td>\n",
       "      <td>yes</td>\n",
       "      <td>NaN</td>\n",
       "      <td>no</td>\n",
       "      <td>30.0</td>\n",
       "    </tr>\n",
       "    <tr>\n",
       "      <th>1</th>\n",
       "      <td>GP</td>\n",
       "      <td>F</td>\n",
       "      <td>U</td>\n",
       "      <td>GT3</td>\n",
       "      <td>NaN</td>\n",
       "      <td>at_home</td>\n",
       "      <td>other</td>\n",
       "      <td>course</td>\n",
       "      <td>father</td>\n",
       "      <td>no</td>\n",
       "      <td>yes</td>\n",
       "      <td>no</td>\n",
       "      <td>no</td>\n",
       "      <td>no</td>\n",
       "      <td>yes</td>\n",
       "      <td>yes</td>\n",
       "      <td>no</td>\n",
       "      <td>30.0</td>\n",
       "    </tr>\n",
       "    <tr>\n",
       "      <th>2</th>\n",
       "      <td>GP</td>\n",
       "      <td>F</td>\n",
       "      <td>U</td>\n",
       "      <td>LE3</td>\n",
       "      <td>T</td>\n",
       "      <td>at_home</td>\n",
       "      <td>other</td>\n",
       "      <td>other</td>\n",
       "      <td>mother</td>\n",
       "      <td>yes</td>\n",
       "      <td>no</td>\n",
       "      <td>NaN</td>\n",
       "      <td>no</td>\n",
       "      <td>yes</td>\n",
       "      <td>yes</td>\n",
       "      <td>yes</td>\n",
       "      <td>NaN</td>\n",
       "      <td>50.0</td>\n",
       "    </tr>\n",
       "    <tr>\n",
       "      <th>3</th>\n",
       "      <td>GP</td>\n",
       "      <td>F</td>\n",
       "      <td>U</td>\n",
       "      <td>GT3</td>\n",
       "      <td>T</td>\n",
       "      <td>health</td>\n",
       "      <td>NaN</td>\n",
       "      <td>home</td>\n",
       "      <td>mother</td>\n",
       "      <td>no</td>\n",
       "      <td>yes</td>\n",
       "      <td>yes</td>\n",
       "      <td>yes</td>\n",
       "      <td>yes</td>\n",
       "      <td>yes</td>\n",
       "      <td>yes</td>\n",
       "      <td>yes</td>\n",
       "      <td>75.0</td>\n",
       "    </tr>\n",
       "    <tr>\n",
       "      <th>4</th>\n",
       "      <td>GP</td>\n",
       "      <td>F</td>\n",
       "      <td>U</td>\n",
       "      <td>GT3</td>\n",
       "      <td>T</td>\n",
       "      <td>other</td>\n",
       "      <td>other</td>\n",
       "      <td>home</td>\n",
       "      <td>father</td>\n",
       "      <td>no</td>\n",
       "      <td>yes</td>\n",
       "      <td>yes</td>\n",
       "      <td>no</td>\n",
       "      <td>yes</td>\n",
       "      <td>yes</td>\n",
       "      <td>no</td>\n",
       "      <td>no</td>\n",
       "      <td>50.0</td>\n",
       "    </tr>\n",
       "    <tr>\n",
       "      <th>...</th>\n",
       "      <td>...</td>\n",
       "      <td>...</td>\n",
       "      <td>...</td>\n",
       "      <td>...</td>\n",
       "      <td>...</td>\n",
       "      <td>...</td>\n",
       "      <td>...</td>\n",
       "      <td>...</td>\n",
       "      <td>...</td>\n",
       "      <td>...</td>\n",
       "      <td>...</td>\n",
       "      <td>...</td>\n",
       "      <td>...</td>\n",
       "      <td>...</td>\n",
       "      <td>...</td>\n",
       "      <td>...</td>\n",
       "      <td>...</td>\n",
       "      <td>...</td>\n",
       "    </tr>\n",
       "    <tr>\n",
       "      <th>390</th>\n",
       "      <td>MS</td>\n",
       "      <td>M</td>\n",
       "      <td>U</td>\n",
       "      <td>LE3</td>\n",
       "      <td>A</td>\n",
       "      <td>services</td>\n",
       "      <td>services</td>\n",
       "      <td>course</td>\n",
       "      <td>NaN</td>\n",
       "      <td>no</td>\n",
       "      <td>yes</td>\n",
       "      <td>yes</td>\n",
       "      <td>no</td>\n",
       "      <td>yes</td>\n",
       "      <td>yes</td>\n",
       "      <td>no</td>\n",
       "      <td>no</td>\n",
       "      <td>45.0</td>\n",
       "    </tr>\n",
       "    <tr>\n",
       "      <th>391</th>\n",
       "      <td>MS</td>\n",
       "      <td>M</td>\n",
       "      <td>U</td>\n",
       "      <td>LE3</td>\n",
       "      <td>T</td>\n",
       "      <td>services</td>\n",
       "      <td>services</td>\n",
       "      <td>course</td>\n",
       "      <td>mother</td>\n",
       "      <td>no</td>\n",
       "      <td>no</td>\n",
       "      <td>no</td>\n",
       "      <td>no</td>\n",
       "      <td>no</td>\n",
       "      <td>yes</td>\n",
       "      <td>yes</td>\n",
       "      <td>no</td>\n",
       "      <td>80.0</td>\n",
       "    </tr>\n",
       "    <tr>\n",
       "      <th>392</th>\n",
       "      <td>MS</td>\n",
       "      <td>M</td>\n",
       "      <td>R</td>\n",
       "      <td>GT3</td>\n",
       "      <td>T</td>\n",
       "      <td>other</td>\n",
       "      <td>other</td>\n",
       "      <td>course</td>\n",
       "      <td>NaN</td>\n",
       "      <td>NaN</td>\n",
       "      <td>no</td>\n",
       "      <td>no</td>\n",
       "      <td>no</td>\n",
       "      <td>no</td>\n",
       "      <td>NaN</td>\n",
       "      <td>no</td>\n",
       "      <td>no</td>\n",
       "      <td>35.0</td>\n",
       "    </tr>\n",
       "    <tr>\n",
       "      <th>393</th>\n",
       "      <td>MS</td>\n",
       "      <td>M</td>\n",
       "      <td>R</td>\n",
       "      <td>LE3</td>\n",
       "      <td>T</td>\n",
       "      <td>services</td>\n",
       "      <td>other</td>\n",
       "      <td>course</td>\n",
       "      <td>mother</td>\n",
       "      <td>no</td>\n",
       "      <td>no</td>\n",
       "      <td>no</td>\n",
       "      <td>NaN</td>\n",
       "      <td>no</td>\n",
       "      <td>yes</td>\n",
       "      <td>yes</td>\n",
       "      <td>no</td>\n",
       "      <td>50.0</td>\n",
       "    </tr>\n",
       "    <tr>\n",
       "      <th>394</th>\n",
       "      <td>MS</td>\n",
       "      <td>M</td>\n",
       "      <td>U</td>\n",
       "      <td>LE3</td>\n",
       "      <td>T</td>\n",
       "      <td>other</td>\n",
       "      <td>at_home</td>\n",
       "      <td>NaN</td>\n",
       "      <td>father</td>\n",
       "      <td>NaN</td>\n",
       "      <td>no</td>\n",
       "      <td>no</td>\n",
       "      <td>no</td>\n",
       "      <td>yes</td>\n",
       "      <td>yes</td>\n",
       "      <td>yes</td>\n",
       "      <td>no</td>\n",
       "      <td>45.0</td>\n",
       "    </tr>\n",
       "  </tbody>\n",
       "</table>\n",
       "<p>352 rows × 18 columns</p>\n",
       "</div>"
      ],
      "text/plain": [
       "    school sex address famsize Pstatus      Mjob      Fjob  reason guardian  \\\n",
       "0       GP   F       U     NaN       A   at_home   teacher  course   mother   \n",
       "1       GP   F       U     GT3     NaN   at_home     other  course   father   \n",
       "2       GP   F       U     LE3       T   at_home     other   other   mother   \n",
       "3       GP   F       U     GT3       T    health       NaN    home   mother   \n",
       "4       GP   F       U     GT3       T     other     other    home   father   \n",
       "..     ...  ..     ...     ...     ...       ...       ...     ...      ...   \n",
       "390     MS   M       U     LE3       A  services  services  course      NaN   \n",
       "391     MS   M       U     LE3       T  services  services  course   mother   \n",
       "392     MS   M       R     GT3       T     other     other  course      NaN   \n",
       "393     MS   M       R     LE3       T  services     other  course   mother   \n",
       "394     MS   M       U     LE3       T     other   at_home     NaN   father   \n",
       "\n",
       "    schoolsup famsup paid activities nursery higher internet romantic  score  \n",
       "0         yes     no   no         no     yes    yes      NaN       no   30.0  \n",
       "1          no    yes   no         no      no    yes      yes       no   30.0  \n",
       "2         yes     no  NaN         no     yes    yes      yes      NaN   50.0  \n",
       "3          no    yes  yes        yes     yes    yes      yes      yes   75.0  \n",
       "4          no    yes  yes         no     yes    yes       no       no   50.0  \n",
       "..        ...    ...  ...        ...     ...    ...      ...      ...    ...  \n",
       "390        no    yes  yes         no     yes    yes       no       no   45.0  \n",
       "391        no     no   no         no      no    yes      yes       no   80.0  \n",
       "392       NaN     no   no         no      no    NaN       no       no   35.0  \n",
       "393        no     no   no        NaN      no    yes      yes       no   50.0  \n",
       "394       NaN     no   no         no     yes    yes      yes       no   45.0  \n",
       "\n",
       "[352 rows x 18 columns]"
      ]
     },
     "execution_count": 4,
     "metadata": {},
     "output_type": "execute_result"
    }
   ],
   "source": [
    "# выбираем столбцы с неноминативными данными\n",
    "studd=stud.select_dtypes(include = ['object'])\n",
    "# добавляем столбец с оценками\n",
    "studd=studd.copy()\n",
    "studd['score']=stud['score']\n",
    "studd"
   ]
  },
  {
   "cell_type": "code",
   "execution_count": 5,
   "metadata": {},
   "outputs": [
    {
     "data": {
      "image/png": "[encoded data removed]",
      "text/plain": [
       "<Figure size 288x144 with 1 Axes>"
      ]
     },
     "metadata": {
      "needs_background": "light"
     },
     "output_type": "display_data"
    },
    {
     "data": {
      "image/png": "[encoded data removed]",
      "text/plain": [
       "<Figure size 288x144 with 1 Axes>"
      ]
     },
     "metadata": {
      "needs_background": "light"
     },
     "output_type": "display_data"
    },
    {
     "data": {
      "image/png": "[encoded data removed]",
      "text/plain": [
       "<Figure size 288x144 with 1 Axes>"
      ]
     },
     "metadata": {
      "needs_background": "light"
     },
     "output_type": "display_data"
    },
    {
     "data": {
      "image/png": "[encoded data removed]",
      "text/plain": [
       "<Figure size 288x144 with 1 Axes>"
      ]
     },
     "metadata": {
      "needs_background": "light"
     },
     "output_type": "display_data"
    },
    {
     "data": {
      "image/png": "[encoded data removed]",
      "text/plain": [
       "<Figure size 288x144 with 1 Axes>"
      ]
     },
     "metadata": {
      "needs_background": "light"
     },
     "output_type": "display_data"
    },
    {
     "data": {
      "image/png": "[encoded data removed]",
      "text/plain": [
       "<Figure size 288x144 with 1 Axes>"
      ]
     },
     "metadata": {
      "needs_background": "light"
     },
     "output_type": "display_data"
    },
    {
     "data": {
      "image/png": "[encoded data removed]",
      "text/plain": [
       "<Figure size 288x144 with 1 Axes>"
      ]
     },
     "metadata": {
      "needs_background": "light"
     },
     "output_type": "display_data"
    },
    {
     "data": {
      "image/png": "[encoded data removed]",
      "text/plain": [
       "<Figure size 288x144 with 1 Axes>"
      ]
     },
     "metadata": {
      "needs_background": "light"
     },
     "output_type": "display_data"
    },
    {
     "data": {
      "image/png": "[encoded data removed]",
      "text/plain": [
       "<Figure size 288x144 with 1 Axes>"
      ]
     },
     "metadata": {
      "needs_background": "light"
     },
     "output_type": "display_data"
    },
    {
     "data": {
      "image/png": "[encoded data removed]",
      "text/plain": [
       "<Figure size 288x144 with 1 Axes>"
      ]
     },
     "metadata": {
      "needs_background": "light"
     },
     "output_type": "display_data"
    },
    {
     "data": {
      "image/png": "[encoded data removed]",
      "text/plain": [
       "<Figure size 288x144 with 1 Axes>"
      ]
     },
     "metadata": {
      "needs_background": "light"
     },
     "output_type": "display_data"
    },
    {
     "data": {
      "image/png": "[encoded data removed]",
      "text/plain": [
       "<Figure size 288x144 with 1 Axes>"
      ]
     },
     "metadata": {
      "needs_background": "light"
     },
     "output_type": "display_data"
    },
    {
     "data": {
      "image/png": "[encoded data removed]",
      "text/plain": [
       "<Figure size 288x144 with 1 Axes>"
      ]
     },
     "metadata": {
      "needs_background": "light"
     },
     "output_type": "display_data"
    },
    {
     "data": {
      "image/png": "[encoded data removed]",
      "text/plain": [
       "<Figure size 288x144 with 1 Axes>"
      ]
     },
     "metadata": {
      "needs_background": "light"
     },
     "output_type": "display_data"
    },
    {
     "data": {
      "image/png": "[encoded data removed]",
      "text/plain": [
       "<Figure size 288x144 with 1 Axes>"
      ]
     },
     "metadata": {
      "needs_background": "light"
     },
     "output_type": "display_data"
    },
    {
     "data": {
      "image/png": "[encoded data removed]",
      "text/plain": [
       "<Figure size 288x144 with 1 Axes>"
      ]
     },
     "metadata": {
      "needs_background": "light"
     },
     "output_type": "display_data"
    }
   ],
   "source": [
    "# пробуем посмотреть боксплоты\n",
    "def get_boxplot(column):\n",
    "    fig, ax = plt.subplots(figsize = (4, 2))\n",
    "    sns.boxplot(x=column, y='score', \n",
    "                data=studd.loc[studd.loc[:, column].isin(studd.loc[:, column].value_counts().index[:10])],\n",
    "               ax=ax)\n",
    "    plt.xticks(rotation=45)\n",
    "    ax.set_title('Boxplot for ' + column)\n",
    "    plt.show()\n",
    "\n",
    "for col in ['school','address','famsize','Pstatus','Mjob','Fjob','reason','guardian','schoolsup','famsup','paid','activities','nursery','higher','internet','romantic']:\n",
    "    get_boxplot(col)"
   ]
  },
  {
   "cell_type": "markdown",
   "metadata": {},
   "source": [
    "Глядя на графики можно выделить группу переменных, которые точно не интересны: school, famsize, Pstatus,famsup, paid, activities, nursery, internet, romantic"
   ]
  },
  {
   "cell_type": "code",
   "execution_count": 6,
   "metadata": {},
   "outputs": [
    {
     "name": "stdout",
     "output_type": "stream",
     "text": [
      "school 54.0 58.0 1.07\n",
      "sex 56.0 59.0 1.05\n",
      "address 53.0 59.0 1.11\n",
      "famsize 58.0 58.0 1.0\n",
      "Pstatus 57.0 58.0 1.02\n",
      "Mjob 54.0 65.0 1.2\n",
      "Fjob 56.0 67.0 1.2\n",
      "reason 57.0 59.0 1.04\n",
      "guardian 55.0 59.0 1.07\n",
      "schoolsup 48.0 60.0 1.25\n",
      "famsup 57.0 59.0 1.04\n",
      "paid 58.0 58.0 1.0\n",
      "activities 57.0 59.0 1.04\n",
      "nursery 57.0 58.0 1.02\n",
      "higher 49.0 58.0 1.18\n",
      "internet 55.0 58.0 1.05\n",
      "romantic 56.0 59.0 1.05\n"
     ]
    }
   ],
   "source": [
    "# первое колличественное приближение: считаем среднее score по значениям в столбцах\n",
    "# для этого выбираем попарно столцы, убираем пустые значения функцией dropna, \n",
    "# группируем по значениям и считаем среднее score\n",
    "# далее считаю отношение между максимальным и минимальным значением\n",
    "# получается размах в разбросе значений\n",
    "# чем больше размах, тем существеннee фактор\n",
    "col=studd.columns.tolist()\n",
    "for i in col[:-1]:\n",
    "    c=studd[[i,'score']]\n",
    "    c=c.dropna()\n",
    "    mn=round(c.groupby(i)['score'].mean().min(),0)\n",
    "    mx=round(c.groupby(i)['score'].mean().max(),0)\n",
    "    raz=round(mx/mn,2)\n",
    "    print(i,mn,mx,raz)"
   ]
  },
  {
   "cell_type": "code",
   "execution_count": 7,
   "metadata": {},
   "outputs": [
    {
     "name": "stdout",
     "output_type": "stream",
     "text": [
      "address 53.0 59.0 1.11\n",
      "U    265\n",
      "R     73\n",
      "Name: address, dtype: int64\n",
      "\n",
      "Mjob 54.0 65.0 1.2\n",
      "other       115\n",
      "services     90\n",
      "teacher      51\n",
      "at_home      49\n",
      "health       30\n",
      "Name: Mjob, dtype: int64\n",
      "\n",
      "Fjob 56.0 67.0 1.2\n",
      "other       176\n",
      "services     89\n",
      "teacher      26\n",
      "health       15\n",
      "at_home      14\n",
      "Name: Fjob, dtype: int64\n",
      "\n",
      "schoolsup 48.0 60.0 1.25\n",
      "no     295\n",
      "yes     48\n",
      "Name: schoolsup, dtype: int64\n",
      "\n",
      "higher 49.0 58.0 1.18\n",
      "yes    320\n",
      "no      13\n",
      "Name: higher, dtype: int64\n",
      "\n"
     ]
    }
   ],
   "source": [
    "# рассмотрим подробнее наиболее интересные из них со значением от 1.1\n",
    "col=studd.columns.tolist()\n",
    "for i in col[:-1]:\n",
    "    c=studd[[i,'score']]\n",
    "    c=c.dropna()\n",
    "    mn=round(c.groupby(i)['score'].mean().min(),0)\n",
    "    mx=round(c.groupby(i)['score'].mean().max(),0)\n",
    "    raz=round(mx/mn,2)\n",
    "    if raz>1.1:\n",
    "        print(i,mn,mx,raz)\n",
    "        print(c[i].value_counts())\n",
    "        print()\n",
    "    else:\n",
    "        continue"
   ]
  },
  {
   "cell_type": "markdown",
   "metadata": {},
   "source": [
    "Выводы: интересные переменные для построения модели address, Mjob, Fjob, schoolsup, higher. Переменные address и schoolsup имеет смысл серьезно рассматривать. Переменная higher дает хороший разброс, но поскольку соотношение между да и нет 320 на 13, слишком большое, то этот показатель имеет значение лишь для 3,9% учеников, что сопоставимо с ошибкой, поэтому для построения модели переменная не годится. "
   ]
  },
  {
   "cell_type": "code",
   "execution_count": 8,
   "metadata": {},
   "outputs": [
    {
     "name": "stdout",
     "output_type": "stream",
     "text": [
      "Mjob\n",
      "at_home     54.081633\n",
      "health      64.666667\n",
      "other       54.695652\n",
      "services    59.611111\n",
      "teacher     59.509804\n",
      "Name: score, dtype: float64\n",
      "other       115\n",
      "services     90\n",
      "teacher      51\n",
      "at_home      49\n",
      "health       30\n",
      "Name: Mjob, dtype: int64\n"
     ]
    }
   ],
   "source": [
    "print(studd.groupby(studd['Mjob'])['score'].mean())\n",
    "print(studd['Mjob'].value_counts())"
   ]
  },
  {
   "cell_type": "markdown",
   "metadata": {},
   "source": [
    "Здесь картина тоже не ровная. Максимальное значение в группе health. Но здесь мало значений. Нижняя граница близка по значениям в группах at_home и other. Если убрать health, то размах будет меньше 1.1. Думаю эту переменную в таком виде применять нельзя. "
   ]
  },
  {
   "cell_type": "code",
   "execution_count": 9,
   "metadata": {},
   "outputs": [
    {
     "name": "stdout",
     "output_type": "stream",
     "text": [
      "Fjob\n",
      "at_home     59.285714\n",
      "health      55.666667\n",
      "other       56.676136\n",
      "services    56.123596\n",
      "teacher     66.730769\n",
      "Name: score, dtype: float64\n",
      "other       176\n",
      "services     89\n",
      "teacher      26\n",
      "health       15\n",
      "at_home      14\n",
      "Name: Fjob, dtype: int64\n"
     ]
    }
   ],
   "source": [
    "print(studd.groupby(studd['Fjob'])['score'].mean())\n",
    "print(studd['Fjob'].value_counts())"
   ]
  },
  {
   "cell_type": "markdown",
   "metadata": {},
   "source": [
    "Здесь картина тоже не ровная. Минимальное значение в группе health. Но здесь мало значений. Верхняя граница в группе teacher. Если убрать health и teacher, то размах будет меньше 1.1. Думаю и эту переменную в таком виде применять нельзя. "
   ]
  },
  {
   "cell_type": "markdown",
   "metadata": {},
   "source": [
    "### Итак, двумя используя разные способы выбраны существенные параметры, влияющие на итоговые оценки: address, schoolsup"
   ]
  },
  {
   "cell_type": "code",
   "execution_count": 10,
   "metadata": {},
   "outputs": [
    {
     "name": "stdout",
     "output_type": "stream",
     "text": [
      "school (-0.0782690455754843, 0.1427891363668696) уникальных значений - 2\n",
      "sex (0.10244884961175449, 0.05481629433222803) уникальных значений - 2\n",
      "address (-0.13823027161071189, 0.0109546305006273) уникальных значений - 2\n",
      "famsize (0.025483537967396427, 0.645631620926334) уникальных значений - 2\n",
      "Pstatus (-0.017252199409964107, 0.7618568738621495) уникальных значений - 2\n",
      "Mjob (0.07702856979775093, 0.15952367972285875) уникальных значений - 5\n",
      "Fjob (-0.07648293312851512, 0.1723114806136191) уникальных значений - 5\n",
      "reason (0.06432090617063517, 0.2389531489739978) уникальных значений - 4\n",
      "guardian (-0.018639757675283215, 0.7385850301300904) уникальных значений - 3\n",
      "schoolsup (0.24979583852111858, 2.8152819921389103e-06) уникальных значений - 2\n",
      "famsup (-0.04687402323368412, 0.40630966502705) уникальных значений - 2\n",
      "paid (-0.022039155749190277, 0.6963358441019494) уникальных значений - 2\n",
      "activities (0.060008079805620375, 0.2698473955621192) уникальных значений - 2\n",
      "nursery (-0.02989071576832308, 0.5828335119723008) уникальных значений - 2\n",
      "higher (-0.10481194993405774, 0.05604155173578001) уникальных значений - 2\n",
      "internet (-0.06795341447180742, 0.22324450876430205) уникальных значений - 2\n",
      "romantic (-0.06196324258381029, 0.26684145093611683) уникальных значений - 2\n"
     ]
    }
   ],
   "source": [
    "# первое приближение: ищем попарную кореляцию для каждого столбца со столбцом score,\n",
    "# для этого выбираем попарно столцы, убираем пустые значения функцией dropna, \n",
    "# для искомого столбца создаем список уникальных значений,\n",
    "# заменяем переменные на числа (индекс из списка уникальных значений),\n",
    "# считаем корреляцию и p-value, печатаем кореляцию и число уникальных значений в столбце\n",
    "b=[]\n",
    "col=studd.columns.tolist()\n",
    "for i in col[:-1]:\n",
    "    c=studd[[i,'score']]\n",
    "    c=c.dropna()\n",
    "    b=c.loc[:,i].unique().tolist()\n",
    "    c.loc[:,i]=c.loc[:,i].apply(lambda x: b.index(x))\n",
    "    cor1=pearsonr(c[i],c['score'])\n",
    "    print(i, cor1, 'уникальных значений -', len(b))"
   ]
  },
  {
   "cell_type": "code",
   "execution_count": 11,
   "metadata": {},
   "outputs": [
    {
     "name": "stdout",
     "output_type": "stream",
     "text": [
      "Mjob\n",
      "at_home     54.081633\n",
      "health      64.666667\n",
      "other       54.695652\n",
      "services    59.611111\n",
      "teacher     59.509804\n",
      "Name: score, dtype: float64\n",
      "reason\n",
      "course        56.512605\n",
      "home          58.089888\n",
      "other         57.575758\n",
      "reputation    59.114583\n",
      "Name: score, dtype: float64\n"
     ]
    }
   ],
   "source": [
    "# Посмотрим на столбцы, где число уникальных значений больше двух. Для примера Mjob и reason.\n",
    "# группировка по признаку со средней оценкой score по группе\n",
    "print(studd.groupby(['Mjob'])['score'].mean())\n",
    "print(studd.groupby(['reason'])['score'].mean())"
   ]
  },
  {
   "cell_type": "markdown",
   "metadata": {},
   "source": [
    "Что мы видим, выше баллы у тех учеников, чьи мамы работают врачами.\n",
    "Также оценки выше, если школа выбрана по репутации. Ниже, если школа общеобразовательная.\n",
    "Но эти различия не дают существенную корреляцию."
   ]
  },
  {
   "cell_type": "markdown",
   "metadata": {},
   "source": [
    "## 3. Анализ количественных переменных"
   ]
  },
  {
   "cell_type": "code",
   "execution_count": 12,
   "metadata": {},
   "outputs": [
    {
     "data": {
      "text/html": [
       "<div>\n",
       "<style scoped>\n",
       "    .dataframe tbody tr th:only-of-type {\n",
       "        vertical-align: middle;\n",
       "    }\n",
       "\n",
       "    .dataframe tbody tr th {\n",
       "        vertical-align: top;\n",
       "    }\n",
       "\n",
       "    .dataframe thead th {\n",
       "        text-align: right;\n",
       "    }\n",
       "</style>\n",
       "<table border=\"1\" class=\"dataframe\">\n",
       "  <thead>\n",
       "    <tr style=\"text-align: right;\">\n",
       "      <th></th>\n",
       "      <th>age</th>\n",
       "      <th>Medu</th>\n",
       "      <th>Fedu</th>\n",
       "      <th>traveltime</th>\n",
       "      <th>studytime</th>\n",
       "      <th>failures</th>\n",
       "      <th>studytime, granular</th>\n",
       "      <th>famrel</th>\n",
       "      <th>freetime</th>\n",
       "      <th>goout</th>\n",
       "      <th>health</th>\n",
       "      <th>absences</th>\n",
       "      <th>score</th>\n",
       "    </tr>\n",
       "  </thead>\n",
       "  <tbody>\n",
       "    <tr>\n",
       "      <th>0</th>\n",
       "      <td>18</td>\n",
       "      <td>4.0</td>\n",
       "      <td>4.0</td>\n",
       "      <td>2.0</td>\n",
       "      <td>2.0</td>\n",
       "      <td>0.0</td>\n",
       "      <td>-6.0</td>\n",
       "      <td>4.0</td>\n",
       "      <td>3.0</td>\n",
       "      <td>4.0</td>\n",
       "      <td>3.0</td>\n",
       "      <td>6.0</td>\n",
       "      <td>30.0</td>\n",
       "    </tr>\n",
       "    <tr>\n",
       "      <th>1</th>\n",
       "      <td>17</td>\n",
       "      <td>1.0</td>\n",
       "      <td>1.0</td>\n",
       "      <td>1.0</td>\n",
       "      <td>2.0</td>\n",
       "      <td>0.0</td>\n",
       "      <td>-6.0</td>\n",
       "      <td>5.0</td>\n",
       "      <td>3.0</td>\n",
       "      <td>3.0</td>\n",
       "      <td>3.0</td>\n",
       "      <td>4.0</td>\n",
       "      <td>30.0</td>\n",
       "    </tr>\n",
       "    <tr>\n",
       "      <th>2</th>\n",
       "      <td>15</td>\n",
       "      <td>1.0</td>\n",
       "      <td>1.0</td>\n",
       "      <td>1.0</td>\n",
       "      <td>2.0</td>\n",
       "      <td>3.0</td>\n",
       "      <td>-6.0</td>\n",
       "      <td>4.0</td>\n",
       "      <td>3.0</td>\n",
       "      <td>2.0</td>\n",
       "      <td>3.0</td>\n",
       "      <td>10.0</td>\n",
       "      <td>50.0</td>\n",
       "    </tr>\n",
       "    <tr>\n",
       "      <th>3</th>\n",
       "      <td>15</td>\n",
       "      <td>4.0</td>\n",
       "      <td>2.0</td>\n",
       "      <td>1.0</td>\n",
       "      <td>3.0</td>\n",
       "      <td>0.0</td>\n",
       "      <td>-9.0</td>\n",
       "      <td>3.0</td>\n",
       "      <td>2.0</td>\n",
       "      <td>2.0</td>\n",
       "      <td>5.0</td>\n",
       "      <td>2.0</td>\n",
       "      <td>75.0</td>\n",
       "    </tr>\n",
       "    <tr>\n",
       "      <th>4</th>\n",
       "      <td>16</td>\n",
       "      <td>3.0</td>\n",
       "      <td>3.0</td>\n",
       "      <td>1.0</td>\n",
       "      <td>2.0</td>\n",
       "      <td>0.0</td>\n",
       "      <td>-6.0</td>\n",
       "      <td>4.0</td>\n",
       "      <td>3.0</td>\n",
       "      <td>2.0</td>\n",
       "      <td>5.0</td>\n",
       "      <td>4.0</td>\n",
       "      <td>50.0</td>\n",
       "    </tr>\n",
       "  </tbody>\n",
       "</table>\n",
       "</div>"
      ],
      "text/plain": [
       "   age  Medu  Fedu  traveltime  studytime  failures  studytime, granular  \\\n",
       "0   18   4.0   4.0         2.0        2.0       0.0                 -6.0   \n",
       "1   17   1.0   1.0         1.0        2.0       0.0                 -6.0   \n",
       "2   15   1.0   1.0         1.0        2.0       3.0                 -6.0   \n",
       "3   15   4.0   2.0         1.0        3.0       0.0                 -9.0   \n",
       "4   16   3.0   3.0         1.0        2.0       0.0                 -6.0   \n",
       "\n",
       "   famrel  freetime  goout  health  absences  score  \n",
       "0     4.0       3.0    4.0     3.0       6.0   30.0  \n",
       "1     5.0       3.0    3.0     3.0       4.0   30.0  \n",
       "2     4.0       3.0    2.0     3.0      10.0   50.0  \n",
       "3     3.0       2.0    2.0     5.0       2.0   75.0  \n",
       "4     4.0       3.0    2.0     5.0       4.0   50.0  "
      ]
     },
     "execution_count": 12,
     "metadata": {},
     "output_type": "execute_result"
    }
   ],
   "source": [
    "# выборка количественных данных\n",
    "st=stud.select_dtypes(include = ['float64', 'int64'])\n",
    "st.head()"
   ]
  },
  {
   "cell_type": "code",
   "execution_count": 13,
   "metadata": {},
   "outputs": [
    {
     "name": "stdout",
     "output_type": "stream",
     "text": [
      "<class 'pandas.core.frame.DataFrame'>\n",
      "Int64Index: 352 entries, 0 to 394\n",
      "Data columns (total 13 columns):\n",
      " #   Column               Non-Null Count  Dtype  \n",
      "---  ------               --------------  -----  \n",
      " 0   age                  352 non-null    int64  \n",
      " 1   Medu                 350 non-null    float64\n",
      " 2   Fedu                 331 non-null    float64\n",
      " 3   traveltime           329 non-null    float64\n",
      " 4   studytime            345 non-null    float64\n",
      " 5   failures             332 non-null    float64\n",
      " 6   studytime, granular  345 non-null    float64\n",
      " 7   famrel               328 non-null    float64\n",
      " 8   freetime             344 non-null    float64\n",
      " 9   goout                346 non-null    float64\n",
      " 10  health               339 non-null    float64\n",
      " 11  absences             342 non-null    float64\n",
      " 12  score                352 non-null    float64\n",
      "dtypes: float64(12), int64(1)\n",
      "memory usage: 38.5 KB\n"
     ]
    }
   ],
   "source": [
    "st.info()"
   ]
  },
  {
   "cell_type": "markdown",
   "metadata": {},
   "source": [
    "Видно, что не все столбцы одинаковой длины, значит есть пропуски. "
   ]
  },
  {
   "cell_type": "code",
   "execution_count": 14,
   "metadata": {},
   "outputs": [
    {
     "data": {
      "text/html": [
       "<div>\n",
       "<style scoped>\n",
       "    .dataframe tbody tr th:only-of-type {\n",
       "        vertical-align: middle;\n",
       "    }\n",
       "\n",
       "    .dataframe tbody tr th {\n",
       "        vertical-align: top;\n",
       "    }\n",
       "\n",
       "    .dataframe thead th {\n",
       "        text-align: right;\n",
       "    }\n",
       "</style>\n",
       "<table border=\"1\" class=\"dataframe\">\n",
       "  <thead>\n",
       "    <tr style=\"text-align: right;\">\n",
       "      <th></th>\n",
       "      <th>age</th>\n",
       "      <th>Medu</th>\n",
       "      <th>Fedu</th>\n",
       "      <th>traveltime</th>\n",
       "      <th>studytime</th>\n",
       "      <th>failures</th>\n",
       "      <th>studytime, granular</th>\n",
       "      <th>famrel</th>\n",
       "      <th>freetime</th>\n",
       "      <th>goout</th>\n",
       "      <th>health</th>\n",
       "      <th>absences</th>\n",
       "      <th>score</th>\n",
       "    </tr>\n",
       "  </thead>\n",
       "  <tbody>\n",
       "    <tr>\n",
       "      <th>age</th>\n",
       "      <td>1.000000</td>\n",
       "      <td>-0.122979</td>\n",
       "      <td>-0.121617</td>\n",
       "      <td>0.095370</td>\n",
       "      <td>-0.011426</td>\n",
       "      <td>0.235875</td>\n",
       "      <td>0.011426</td>\n",
       "      <td>0.074152</td>\n",
       "      <td>0.004837</td>\n",
       "      <td>0.123638</td>\n",
       "      <td>-0.056173</td>\n",
       "      <td>0.112599</td>\n",
       "      <td>-0.131542</td>\n",
       "    </tr>\n",
       "    <tr>\n",
       "      <th>Medu</th>\n",
       "      <td>-0.122979</td>\n",
       "      <td>1.000000</td>\n",
       "      <td>0.247339</td>\n",
       "      <td>-0.165394</td>\n",
       "      <td>0.070533</td>\n",
       "      <td>-0.205944</td>\n",
       "      <td>-0.070533</td>\n",
       "      <td>-0.000958</td>\n",
       "      <td>0.021002</td>\n",
       "      <td>0.080556</td>\n",
       "      <td>-0.038050</td>\n",
       "      <td>-0.027377</td>\n",
       "      <td>0.186477</td>\n",
       "    </tr>\n",
       "    <tr>\n",
       "      <th>Fedu</th>\n",
       "      <td>-0.121617</td>\n",
       "      <td>0.247339</td>\n",
       "      <td>1.000000</td>\n",
       "      <td>0.042074</td>\n",
       "      <td>0.049060</td>\n",
       "      <td>-0.141995</td>\n",
       "      <td>-0.049060</td>\n",
       "      <td>0.049613</td>\n",
       "      <td>-0.071328</td>\n",
       "      <td>-0.026507</td>\n",
       "      <td>0.025874</td>\n",
       "      <td>0.000245</td>\n",
       "      <td>0.069842</td>\n",
       "    </tr>\n",
       "    <tr>\n",
       "      <th>traveltime</th>\n",
       "      <td>0.095370</td>\n",
       "      <td>-0.165394</td>\n",
       "      <td>0.042074</td>\n",
       "      <td>1.000000</td>\n",
       "      <td>-0.101490</td>\n",
       "      <td>0.091757</td>\n",
       "      <td>0.101490</td>\n",
       "      <td>-0.023920</td>\n",
       "      <td>-0.023067</td>\n",
       "      <td>0.029374</td>\n",
       "      <td>-0.000092</td>\n",
       "      <td>-0.047560</td>\n",
       "      <td>-0.075516</td>\n",
       "    </tr>\n",
       "    <tr>\n",
       "      <th>studytime</th>\n",
       "      <td>-0.011426</td>\n",
       "      <td>0.070533</td>\n",
       "      <td>0.049060</td>\n",
       "      <td>-0.101490</td>\n",
       "      <td>1.000000</td>\n",
       "      <td>-0.156406</td>\n",
       "      <td>-1.000000</td>\n",
       "      <td>0.063856</td>\n",
       "      <td>-0.128661</td>\n",
       "      <td>-0.029686</td>\n",
       "      <td>-0.085469</td>\n",
       "      <td>-0.030187</td>\n",
       "      <td>0.142055</td>\n",
       "    </tr>\n",
       "    <tr>\n",
       "      <th>failures</th>\n",
       "      <td>0.235875</td>\n",
       "      <td>-0.205944</td>\n",
       "      <td>-0.141995</td>\n",
       "      <td>0.091757</td>\n",
       "      <td>-0.156406</td>\n",
       "      <td>1.000000</td>\n",
       "      <td>0.156406</td>\n",
       "      <td>-0.011414</td>\n",
       "      <td>0.127391</td>\n",
       "      <td>0.126770</td>\n",
       "      <td>0.064083</td>\n",
       "      <td>0.089541</td>\n",
       "      <td>-0.289377</td>\n",
       "    </tr>\n",
       "    <tr>\n",
       "      <th>studytime, granular</th>\n",
       "      <td>0.011426</td>\n",
       "      <td>-0.070533</td>\n",
       "      <td>-0.049060</td>\n",
       "      <td>0.101490</td>\n",
       "      <td>-1.000000</td>\n",
       "      <td>0.156406</td>\n",
       "      <td>1.000000</td>\n",
       "      <td>-0.063856</td>\n",
       "      <td>0.128661</td>\n",
       "      <td>0.029686</td>\n",
       "      <td>0.085469</td>\n",
       "      <td>0.030187</td>\n",
       "      <td>-0.142055</td>\n",
       "    </tr>\n",
       "    <tr>\n",
       "      <th>famrel</th>\n",
       "      <td>0.074152</td>\n",
       "      <td>-0.000958</td>\n",
       "      <td>0.049613</td>\n",
       "      <td>-0.023920</td>\n",
       "      <td>0.063856</td>\n",
       "      <td>-0.011414</td>\n",
       "      <td>-0.063856</td>\n",
       "      <td>1.000000</td>\n",
       "      <td>0.162283</td>\n",
       "      <td>0.050751</td>\n",
       "      <td>0.096471</td>\n",
       "      <td>-0.089609</td>\n",
       "      <td>0.046717</td>\n",
       "    </tr>\n",
       "    <tr>\n",
       "      <th>freetime</th>\n",
       "      <td>0.004837</td>\n",
       "      <td>0.021002</td>\n",
       "      <td>-0.071328</td>\n",
       "      <td>-0.023067</td>\n",
       "      <td>-0.128661</td>\n",
       "      <td>0.127391</td>\n",
       "      <td>0.128661</td>\n",
       "      <td>0.162283</td>\n",
       "      <td>1.000000</td>\n",
       "      <td>0.296392</td>\n",
       "      <td>0.072729</td>\n",
       "      <td>0.007748</td>\n",
       "      <td>-0.012457</td>\n",
       "    </tr>\n",
       "    <tr>\n",
       "      <th>goout</th>\n",
       "      <td>0.123638</td>\n",
       "      <td>0.080556</td>\n",
       "      <td>-0.026507</td>\n",
       "      <td>0.029374</td>\n",
       "      <td>-0.029686</td>\n",
       "      <td>0.126770</td>\n",
       "      <td>0.029686</td>\n",
       "      <td>0.050751</td>\n",
       "      <td>0.296392</td>\n",
       "      <td>1.000000</td>\n",
       "      <td>-0.010343</td>\n",
       "      <td>-0.050616</td>\n",
       "      <td>-0.182286</td>\n",
       "    </tr>\n",
       "    <tr>\n",
       "      <th>health</th>\n",
       "      <td>-0.056173</td>\n",
       "      <td>-0.038050</td>\n",
       "      <td>0.025874</td>\n",
       "      <td>-0.000092</td>\n",
       "      <td>-0.085469</td>\n",
       "      <td>0.064083</td>\n",
       "      <td>0.085469</td>\n",
       "      <td>0.096471</td>\n",
       "      <td>0.072729</td>\n",
       "      <td>-0.010343</td>\n",
       "      <td>1.000000</td>\n",
       "      <td>-0.014308</td>\n",
       "      <td>-0.075340</td>\n",
       "    </tr>\n",
       "    <tr>\n",
       "      <th>absences</th>\n",
       "      <td>0.112599</td>\n",
       "      <td>-0.027377</td>\n",
       "      <td>0.000245</td>\n",
       "      <td>-0.047560</td>\n",
       "      <td>-0.030187</td>\n",
       "      <td>0.089541</td>\n",
       "      <td>0.030187</td>\n",
       "      <td>-0.089609</td>\n",
       "      <td>0.007748</td>\n",
       "      <td>-0.050616</td>\n",
       "      <td>-0.014308</td>\n",
       "      <td>1.000000</td>\n",
       "      <td>-0.014039</td>\n",
       "    </tr>\n",
       "    <tr>\n",
       "      <th>score</th>\n",
       "      <td>-0.131542</td>\n",
       "      <td>0.186477</td>\n",
       "      <td>0.069842</td>\n",
       "      <td>-0.075516</td>\n",
       "      <td>0.142055</td>\n",
       "      <td>-0.289377</td>\n",
       "      <td>-0.142055</td>\n",
       "      <td>0.046717</td>\n",
       "      <td>-0.012457</td>\n",
       "      <td>-0.182286</td>\n",
       "      <td>-0.075340</td>\n",
       "      <td>-0.014039</td>\n",
       "      <td>1.000000</td>\n",
       "    </tr>\n",
       "  </tbody>\n",
       "</table>\n",
       "</div>"
      ],
      "text/plain": [
       "                          age      Medu      Fedu  traveltime  studytime  \\\n",
       "age                  1.000000 -0.122979 -0.121617    0.095370  -0.011426   \n",
       "Medu                -0.122979  1.000000  0.247339   -0.165394   0.070533   \n",
       "Fedu                -0.121617  0.247339  1.000000    0.042074   0.049060   \n",
       "traveltime           0.095370 -0.165394  0.042074    1.000000  -0.101490   \n",
       "studytime           -0.011426  0.070533  0.049060   -0.101490   1.000000   \n",
       "failures             0.235875 -0.205944 -0.141995    0.091757  -0.156406   \n",
       "studytime, granular  0.011426 -0.070533 -0.049060    0.101490  -1.000000   \n",
       "famrel               0.074152 -0.000958  0.049613   -0.023920   0.063856   \n",
       "freetime             0.004837  0.021002 -0.071328   -0.023067  -0.128661   \n",
       "goout                0.123638  0.080556 -0.026507    0.029374  -0.029686   \n",
       "health              -0.056173 -0.038050  0.025874   -0.000092  -0.085469   \n",
       "absences             0.112599 -0.027377  0.000245   -0.047560  -0.030187   \n",
       "score               -0.131542  0.186477  0.069842   -0.075516   0.142055   \n",
       "\n",
       "                     failures  studytime, granular    famrel  freetime  \\\n",
       "age                  0.235875             0.011426  0.074152  0.004837   \n",
       "Medu                -0.205944            -0.070533 -0.000958  0.021002   \n",
       "Fedu                -0.141995            -0.049060  0.049613 -0.071328   \n",
       "traveltime           0.091757             0.101490 -0.023920 -0.023067   \n",
       "studytime           -0.156406            -1.000000  0.063856 -0.128661   \n",
       "failures             1.000000             0.156406 -0.011414  0.127391   \n",
       "studytime, granular  0.156406             1.000000 -0.063856  0.128661   \n",
       "famrel              -0.011414            -0.063856  1.000000  0.162283   \n",
       "freetime             0.127391             0.128661  0.162283  1.000000   \n",
       "goout                0.126770             0.029686  0.050751  0.296392   \n",
       "health               0.064083             0.085469  0.096471  0.072729   \n",
       "absences             0.089541             0.030187 -0.089609  0.007748   \n",
       "score               -0.289377            -0.142055  0.046717 -0.012457   \n",
       "\n",
       "                        goout    health  absences     score  \n",
       "age                  0.123638 -0.056173  0.112599 -0.131542  \n",
       "Medu                 0.080556 -0.038050 -0.027377  0.186477  \n",
       "Fedu                -0.026507  0.025874  0.000245  0.069842  \n",
       "traveltime           0.029374 -0.000092 -0.047560 -0.075516  \n",
       "studytime           -0.029686 -0.085469 -0.030187  0.142055  \n",
       "failures             0.126770  0.064083  0.089541 -0.289377  \n",
       "studytime, granular  0.029686  0.085469  0.030187 -0.142055  \n",
       "famrel               0.050751  0.096471 -0.089609  0.046717  \n",
       "freetime             0.296392  0.072729  0.007748 -0.012457  \n",
       "goout                1.000000 -0.010343 -0.050616 -0.182286  \n",
       "health              -0.010343  1.000000 -0.014308 -0.075340  \n",
       "absences            -0.050616 -0.014308  1.000000 -0.014039  \n",
       "score               -0.182286 -0.075340 -0.014039  1.000000  "
      ]
     },
     "execution_count": 14,
     "metadata": {},
     "output_type": "execute_result"
    }
   ],
   "source": [
    "# Сначала посмотрим на корреляцию без очистки данных\n",
    "corr=st.corr()\n",
    "corr"
   ]
  },
  {
   "cell_type": "code",
   "execution_count": 15,
   "metadata": {},
   "outputs": [
    {
     "data": {
      "text/plain": [
       "<matplotlib.axes._subplots.AxesSubplot at 0x9089510>"
      ]
     },
     "execution_count": 15,
     "metadata": {},
     "output_type": "execute_result"
    },
    {
     "data": {
      "image/png": "[encoded data removed]",
      "text/plain": [
       "<Figure size 432x288 with 2 Axes>"
      ]
     },
     "metadata": {
      "needs_background": "light"
     },
     "output_type": "display_data"
    }
   ],
   "source": [
    "# построим тепловую диаграмму\n",
    "sns.heatmap(corr, linewidths=1)"
   ]
  },
  {
   "cell_type": "markdown",
   "metadata": {},
   "source": [
    "Выводы по общей таблице корреляций: данные stidytime и studytime, granular имеют 100%-ую отрицательную корреляцию, поэтому оставляем только один столбец stidytime. Смысл такой, чем меньше учебы в школе, тем ниже оценка и чем больше дополнительной учебы вне школы, тем выше оценка."
   ]
  },
  {
   "cell_type": "code",
   "execution_count": 16,
   "metadata": {},
   "outputs": [
    {
     "data": {
      "text/html": [
       "<div>\n",
       "<style scoped>\n",
       "    .dataframe tbody tr th:only-of-type {\n",
       "        vertical-align: middle;\n",
       "    }\n",
       "\n",
       "    .dataframe tbody tr th {\n",
       "        vertical-align: top;\n",
       "    }\n",
       "\n",
       "    .dataframe thead th {\n",
       "        text-align: right;\n",
       "    }\n",
       "</style>\n",
       "<table border=\"1\" class=\"dataframe\">\n",
       "  <thead>\n",
       "    <tr style=\"text-align: right;\">\n",
       "      <th></th>\n",
       "      <th>age</th>\n",
       "      <th>Medu</th>\n",
       "      <th>Fedu</th>\n",
       "      <th>traveltime</th>\n",
       "      <th>studytime</th>\n",
       "      <th>failures</th>\n",
       "      <th>famrel</th>\n",
       "      <th>freetime</th>\n",
       "      <th>goout</th>\n",
       "      <th>health</th>\n",
       "      <th>absences</th>\n",
       "      <th>score</th>\n",
       "    </tr>\n",
       "  </thead>\n",
       "  <tbody>\n",
       "    <tr>\n",
       "      <th>0</th>\n",
       "      <td>18</td>\n",
       "      <td>4.0</td>\n",
       "      <td>4.0</td>\n",
       "      <td>2.0</td>\n",
       "      <td>2.0</td>\n",
       "      <td>0.0</td>\n",
       "      <td>4.0</td>\n",
       "      <td>3.0</td>\n",
       "      <td>4.0</td>\n",
       "      <td>3.0</td>\n",
       "      <td>6.0</td>\n",
       "      <td>30.0</td>\n",
       "    </tr>\n",
       "    <tr>\n",
       "      <th>1</th>\n",
       "      <td>17</td>\n",
       "      <td>1.0</td>\n",
       "      <td>1.0</td>\n",
       "      <td>1.0</td>\n",
       "      <td>2.0</td>\n",
       "      <td>0.0</td>\n",
       "      <td>5.0</td>\n",
       "      <td>3.0</td>\n",
       "      <td>3.0</td>\n",
       "      <td>3.0</td>\n",
       "      <td>4.0</td>\n",
       "      <td>30.0</td>\n",
       "    </tr>\n",
       "    <tr>\n",
       "      <th>2</th>\n",
       "      <td>15</td>\n",
       "      <td>1.0</td>\n",
       "      <td>1.0</td>\n",
       "      <td>1.0</td>\n",
       "      <td>2.0</td>\n",
       "      <td>3.0</td>\n",
       "      <td>4.0</td>\n",
       "      <td>3.0</td>\n",
       "      <td>2.0</td>\n",
       "      <td>3.0</td>\n",
       "      <td>10.0</td>\n",
       "      <td>50.0</td>\n",
       "    </tr>\n",
       "    <tr>\n",
       "      <th>3</th>\n",
       "      <td>15</td>\n",
       "      <td>4.0</td>\n",
       "      <td>2.0</td>\n",
       "      <td>1.0</td>\n",
       "      <td>3.0</td>\n",
       "      <td>0.0</td>\n",
       "      <td>3.0</td>\n",
       "      <td>2.0</td>\n",
       "      <td>2.0</td>\n",
       "      <td>5.0</td>\n",
       "      <td>2.0</td>\n",
       "      <td>75.0</td>\n",
       "    </tr>\n",
       "    <tr>\n",
       "      <th>4</th>\n",
       "      <td>16</td>\n",
       "      <td>3.0</td>\n",
       "      <td>3.0</td>\n",
       "      <td>1.0</td>\n",
       "      <td>2.0</td>\n",
       "      <td>0.0</td>\n",
       "      <td>4.0</td>\n",
       "      <td>3.0</td>\n",
       "      <td>2.0</td>\n",
       "      <td>5.0</td>\n",
       "      <td>4.0</td>\n",
       "      <td>50.0</td>\n",
       "    </tr>\n",
       "  </tbody>\n",
       "</table>\n",
       "</div>"
      ],
      "text/plain": [
       "   age  Medu  Fedu  traveltime  studytime  failures  famrel  freetime  goout  \\\n",
       "0   18   4.0   4.0         2.0        2.0       0.0     4.0       3.0    4.0   \n",
       "1   17   1.0   1.0         1.0        2.0       0.0     5.0       3.0    3.0   \n",
       "2   15   1.0   1.0         1.0        2.0       3.0     4.0       3.0    2.0   \n",
       "3   15   4.0   2.0         1.0        3.0       0.0     3.0       2.0    2.0   \n",
       "4   16   3.0   3.0         1.0        2.0       0.0     4.0       3.0    2.0   \n",
       "\n",
       "   health  absences  score  \n",
       "0     3.0       6.0   30.0  \n",
       "1     3.0       4.0   30.0  \n",
       "2     3.0      10.0   50.0  \n",
       "3     5.0       2.0   75.0  \n",
       "4     5.0       4.0   50.0  "
      ]
     },
     "execution_count": 16,
     "metadata": {},
     "output_type": "execute_result"
    }
   ],
   "source": [
    "# удаляем лишний столбец 'studytime, granular'\n",
    "st=st.drop('studytime, granular', axis=1)\n",
    "st.head()"
   ]
  },
  {
   "cell_type": "code",
   "execution_count": 17,
   "metadata": {},
   "outputs": [
    {
     "data": {
      "text/html": [
       "<div>\n",
       "<style scoped>\n",
       "    .dataframe tbody tr th:only-of-type {\n",
       "        vertical-align: middle;\n",
       "    }\n",
       "\n",
       "    .dataframe tbody tr th {\n",
       "        vertical-align: top;\n",
       "    }\n",
       "\n",
       "    .dataframe thead th {\n",
       "        text-align: right;\n",
       "    }\n",
       "</style>\n",
       "<table border=\"1\" class=\"dataframe\">\n",
       "  <thead>\n",
       "    <tr style=\"text-align: right;\">\n",
       "      <th></th>\n",
       "      <th>age</th>\n",
       "      <th>Medu</th>\n",
       "      <th>Fedu</th>\n",
       "      <th>traveltime</th>\n",
       "      <th>studytime</th>\n",
       "      <th>failures</th>\n",
       "      <th>famrel</th>\n",
       "      <th>freetime</th>\n",
       "      <th>goout</th>\n",
       "      <th>health</th>\n",
       "      <th>absences</th>\n",
       "      <th>score</th>\n",
       "    </tr>\n",
       "  </thead>\n",
       "  <tbody>\n",
       "    <tr>\n",
       "      <th>count</th>\n",
       "      <td>352.000000</td>\n",
       "      <td>350.000000</td>\n",
       "      <td>331.000000</td>\n",
       "      <td>329.000000</td>\n",
       "      <td>345.000000</td>\n",
       "      <td>332.000000</td>\n",
       "      <td>328.000000</td>\n",
       "      <td>344.000000</td>\n",
       "      <td>346.000000</td>\n",
       "      <td>339.000000</td>\n",
       "      <td>342.000000</td>\n",
       "      <td>352.000000</td>\n",
       "    </tr>\n",
       "    <tr>\n",
       "      <th>mean</th>\n",
       "      <td>16.633523</td>\n",
       "      <td>2.811429</td>\n",
       "      <td>2.658610</td>\n",
       "      <td>1.428571</td>\n",
       "      <td>2.046377</td>\n",
       "      <td>0.271084</td>\n",
       "      <td>3.942073</td>\n",
       "      <td>3.235465</td>\n",
       "      <td>3.086705</td>\n",
       "      <td>3.516224</td>\n",
       "      <td>8.090643</td>\n",
       "      <td>57.755682</td>\n",
       "    </tr>\n",
       "    <tr>\n",
       "      <th>std</th>\n",
       "      <td>1.256011</td>\n",
       "      <td>1.091192</td>\n",
       "      <td>2.324066</td>\n",
       "      <td>0.690907</td>\n",
       "      <td>0.840919</td>\n",
       "      <td>0.667779</td>\n",
       "      <td>0.921871</td>\n",
       "      <td>1.004258</td>\n",
       "      <td>1.091998</td>\n",
       "      <td>1.412812</td>\n",
       "      <td>24.704600</td>\n",
       "      <td>16.200928</td>\n",
       "    </tr>\n",
       "    <tr>\n",
       "      <th>min</th>\n",
       "      <td>15.000000</td>\n",
       "      <td>0.000000</td>\n",
       "      <td>0.000000</td>\n",
       "      <td>1.000000</td>\n",
       "      <td>1.000000</td>\n",
       "      <td>0.000000</td>\n",
       "      <td>-1.000000</td>\n",
       "      <td>1.000000</td>\n",
       "      <td>1.000000</td>\n",
       "      <td>1.000000</td>\n",
       "      <td>0.000000</td>\n",
       "      <td>20.000000</td>\n",
       "    </tr>\n",
       "    <tr>\n",
       "      <th>25%</th>\n",
       "      <td>16.000000</td>\n",
       "      <td>2.000000</td>\n",
       "      <td>2.000000</td>\n",
       "      <td>1.000000</td>\n",
       "      <td>1.000000</td>\n",
       "      <td>0.000000</td>\n",
       "      <td>4.000000</td>\n",
       "      <td>3.000000</td>\n",
       "      <td>2.000000</td>\n",
       "      <td>3.000000</td>\n",
       "      <td>2.000000</td>\n",
       "      <td>45.000000</td>\n",
       "    </tr>\n",
       "    <tr>\n",
       "      <th>50%</th>\n",
       "      <td>17.000000</td>\n",
       "      <td>3.000000</td>\n",
       "      <td>3.000000</td>\n",
       "      <td>1.000000</td>\n",
       "      <td>2.000000</td>\n",
       "      <td>0.000000</td>\n",
       "      <td>4.000000</td>\n",
       "      <td>3.000000</td>\n",
       "      <td>3.000000</td>\n",
       "      <td>4.000000</td>\n",
       "      <td>4.000000</td>\n",
       "      <td>55.000000</td>\n",
       "    </tr>\n",
       "    <tr>\n",
       "      <th>75%</th>\n",
       "      <td>18.000000</td>\n",
       "      <td>4.000000</td>\n",
       "      <td>3.000000</td>\n",
       "      <td>2.000000</td>\n",
       "      <td>2.000000</td>\n",
       "      <td>0.000000</td>\n",
       "      <td>5.000000</td>\n",
       "      <td>4.000000</td>\n",
       "      <td>4.000000</td>\n",
       "      <td>5.000000</td>\n",
       "      <td>8.000000</td>\n",
       "      <td>70.000000</td>\n",
       "    </tr>\n",
       "    <tr>\n",
       "      <th>max</th>\n",
       "      <td>22.000000</td>\n",
       "      <td>4.000000</td>\n",
       "      <td>40.000000</td>\n",
       "      <td>4.000000</td>\n",
       "      <td>4.000000</td>\n",
       "      <td>3.000000</td>\n",
       "      <td>5.000000</td>\n",
       "      <td>5.000000</td>\n",
       "      <td>5.000000</td>\n",
       "      <td>5.000000</td>\n",
       "      <td>385.000000</td>\n",
       "      <td>100.000000</td>\n",
       "    </tr>\n",
       "  </tbody>\n",
       "</table>\n",
       "</div>"
      ],
      "text/plain": [
       "              age        Medu        Fedu  traveltime   studytime    failures  \\\n",
       "count  352.000000  350.000000  331.000000  329.000000  345.000000  332.000000   \n",
       "mean    16.633523    2.811429    2.658610    1.428571    2.046377    0.271084   \n",
       "std      1.256011    1.091192    2.324066    0.690907    0.840919    0.667779   \n",
       "min     15.000000    0.000000    0.000000    1.000000    1.000000    0.000000   \n",
       "25%     16.000000    2.000000    2.000000    1.000000    1.000000    0.000000   \n",
       "50%     17.000000    3.000000    3.000000    1.000000    2.000000    0.000000   \n",
       "75%     18.000000    4.000000    3.000000    2.000000    2.000000    0.000000   \n",
       "max     22.000000    4.000000   40.000000    4.000000    4.000000    3.000000   \n",
       "\n",
       "           famrel    freetime       goout      health    absences       score  \n",
       "count  328.000000  344.000000  346.000000  339.000000  342.000000  352.000000  \n",
       "mean     3.942073    3.235465    3.086705    3.516224    8.090643   57.755682  \n",
       "std      0.921871    1.004258    1.091998    1.412812   24.704600   16.200928  \n",
       "min     -1.000000    1.000000    1.000000    1.000000    0.000000   20.000000  \n",
       "25%      4.000000    3.000000    2.000000    3.000000    2.000000   45.000000  \n",
       "50%      4.000000    3.000000    3.000000    4.000000    4.000000   55.000000  \n",
       "75%      5.000000    4.000000    4.000000    5.000000    8.000000   70.000000  \n",
       "max      5.000000    5.000000    5.000000    5.000000  385.000000  100.000000  "
      ]
     },
     "execution_count": 17,
     "metadata": {},
     "output_type": "execute_result"
    }
   ],
   "source": [
    "# посмотрим на характеристики данных\n",
    "st.describe()"
   ]
  },
  {
   "cell_type": "markdown",
   "metadata": {},
   "source": [
    "Беглый анализ данных позволяет увидеть, что в данных есть выбросы, например в Fedu и absences. Значит нужно проанализировать весь массив на выбросы. famrel по условиям не должно быть отрицательным."
   ]
  },
  {
   "cell_type": "code",
   "execution_count": 18,
   "metadata": {},
   "outputs": [],
   "source": [
    "# убираем явные отклонения\n",
    "st=st[st.Fedu<=4]\n",
    "st=st[st.absences<100]\n",
    "st=st[st.famrel>0]"
   ]
  },
  {
   "cell_type": "code",
   "execution_count": 19,
   "metadata": {},
   "outputs": [
    {
     "name": "stdout",
     "output_type": "stream",
     "text": [
      "age имеет выбросы\n",
      "Fedu имеет выбросы\n",
      "traveltime имеет выбросы\n",
      "studytime имеет выбросы\n",
      "failures имеет выбросы\n",
      "famrel имеет выбросы\n",
      "freetime имеет выбросы\n",
      "absences имеет выбросы\n"
     ]
    }
   ],
   "source": [
    "# поищем выбросы по всем полям с учетом межквартильного размаха\n",
    "bb=[]\n",
    "col_list=st.columns.tolist()\n",
    "for i in col_list[:-1]:\n",
    "    perc25 = st[i].quantile(0.25)\n",
    "    perc75 = st[i].quantile(0.75)\n",
    "    IQR = perc75-perc25\n",
    "    gr_min = perc25-1.5*IQR\n",
    "    gr_max = perc75+1.5*IQR\n",
    "    if st[i].max() > gr_max or st[i].min() < gr_min:\n",
    "        print(i, 'имеет выбросы')\n",
    "    else:\n",
    "        continue"
   ]
  },
  {
   "cell_type": "code",
   "execution_count": 20,
   "metadata": {},
   "outputs": [
    {
     "data": {
      "text/plain": [
       "<matplotlib.axes._subplots.AxesSubplot at 0x8cee870>"
      ]
     },
     "execution_count": 20,
     "metadata": {},
     "output_type": "execute_result"
    },
    {
     "data": {
      "image/png": "[encoded data removed]",
      "text/plain": [
       "<Figure size 432x288 with 1 Axes>"
      ]
     },
     "metadata": {
      "needs_background": "light"
     },
     "output_type": "display_data"
    }
   ],
   "source": [
    "# рассмотрим эти выбросы на графике (без учета столбца absences, его рассмотрим отдельно)\n",
    "st[['age','Fedu','traveltime','studytime','failures','famrel','freetime']].boxplot()"
   ]
  },
  {
   "cell_type": "markdown",
   "metadata": {},
   "source": [
    "На графике видно, что у всех данных есть выбросы, но эти значения находятся в пределах референсных, поэтому считаю, чтоу далять их не нужно. Это говорит только о качестве распределения совокупности данных."
   ]
  },
  {
   "cell_type": "code",
   "execution_count": 21,
   "metadata": {},
   "outputs": [
    {
     "name": "stdout",
     "output_type": "stream",
     "text": [
      "(-0.1295302331556805, 0.02584790226846146) корреляция для age\n",
      "(0.17614944677292516, 0.002435807866366558) корреляция для Medu\n",
      "(0.12747969859951716, 0.028313283291693202) корреляция для Fedu\n",
      "(-0.08548318360623669, 0.1574470347646493) корреляция для traveltime\n",
      "(0.14886258886984066, 0.011001272031263252) корреляция для studytime\n",
      "(-0.26278129639148473, 8.666323263292714e-06) корреляция для failures\n",
      "(0.04795766609452324, 0.4110331469554322) корреляция для famrel\n",
      "(-0.012592687394140802, 0.8309151264093007) корреляция для freetime\n",
      "(-0.18377492314342775, 0.0016730128454192834) корреляция для goout\n",
      "(-0.033491657843970936, 0.574061571938805) корреляция для health\n",
      "(-0.18083899640845702, 0.001784695022105372) корреляция для absences\n"
     ]
    }
   ],
   "source": [
    "# расчет корреляции и p-value для каждого столбца со значениями столбца score\n",
    "for i in col_list[:-1]:\n",
    "    basa_1=st[[i,'score']]\n",
    "    basa_1=basa_1.dropna()\n",
    "    cor_1=pearsonr(basa_1[i],basa_1['score'])\n",
    "    print(cor_1, 'корреляция для', i)"
   ]
  },
  {
   "cell_type": "markdown",
   "metadata": {},
   "source": [
    "### На основе вышеприведенных данных можно сделать следующие выводы: Значимые переменные: age, Medu, Fedu, studytime, failures, goout, absences. Выборка в данном случае произведена по значению p-value (второе значение в скобках). Чем ниже значение, тем выше качество корреляции. Граница отсечения 0,05."
   ]
  },
  {
   "cell_type": "markdown",
   "metadata": {},
   "source": [
    "## 4. Заполнение пробелов в выбранных переменных"
   ]
  },
  {
   "cell_type": "code",
   "execution_count": 22,
   "metadata": {},
   "outputs": [
    {
     "data": {
      "text/html": [
       "<div>\n",
       "<style scoped>\n",
       "    .dataframe tbody tr th:only-of-type {\n",
       "        vertical-align: middle;\n",
       "    }\n",
       "\n",
       "    .dataframe tbody tr th {\n",
       "        vertical-align: top;\n",
       "    }\n",
       "\n",
       "    .dataframe thead th {\n",
       "        text-align: right;\n",
       "    }\n",
       "</style>\n",
       "<table border=\"1\" class=\"dataframe\">\n",
       "  <thead>\n",
       "    <tr style=\"text-align: right;\">\n",
       "      <th></th>\n",
       "      <th>age</th>\n",
       "      <th>Medu</th>\n",
       "      <th>Fedu</th>\n",
       "      <th>studytime</th>\n",
       "      <th>failures</th>\n",
       "      <th>goout</th>\n",
       "      <th>absences</th>\n",
       "      <th>address</th>\n",
       "      <th>schoolsup</th>\n",
       "      <th>score</th>\n",
       "    </tr>\n",
       "  </thead>\n",
       "  <tbody>\n",
       "    <tr>\n",
       "      <th>0</th>\n",
       "      <td>18</td>\n",
       "      <td>4.0</td>\n",
       "      <td>4.0</td>\n",
       "      <td>2.0</td>\n",
       "      <td>0.0</td>\n",
       "      <td>4.0</td>\n",
       "      <td>6.0</td>\n",
       "      <td>U</td>\n",
       "      <td>yes</td>\n",
       "      <td>30.0</td>\n",
       "    </tr>\n",
       "    <tr>\n",
       "      <th>1</th>\n",
       "      <td>17</td>\n",
       "      <td>1.0</td>\n",
       "      <td>1.0</td>\n",
       "      <td>2.0</td>\n",
       "      <td>0.0</td>\n",
       "      <td>3.0</td>\n",
       "      <td>4.0</td>\n",
       "      <td>U</td>\n",
       "      <td>no</td>\n",
       "      <td>30.0</td>\n",
       "    </tr>\n",
       "    <tr>\n",
       "      <th>2</th>\n",
       "      <td>15</td>\n",
       "      <td>1.0</td>\n",
       "      <td>1.0</td>\n",
       "      <td>2.0</td>\n",
       "      <td>3.0</td>\n",
       "      <td>2.0</td>\n",
       "      <td>10.0</td>\n",
       "      <td>U</td>\n",
       "      <td>yes</td>\n",
       "      <td>50.0</td>\n",
       "    </tr>\n",
       "    <tr>\n",
       "      <th>3</th>\n",
       "      <td>15</td>\n",
       "      <td>4.0</td>\n",
       "      <td>2.0</td>\n",
       "      <td>3.0</td>\n",
       "      <td>0.0</td>\n",
       "      <td>2.0</td>\n",
       "      <td>2.0</td>\n",
       "      <td>U</td>\n",
       "      <td>no</td>\n",
       "      <td>75.0</td>\n",
       "    </tr>\n",
       "    <tr>\n",
       "      <th>4</th>\n",
       "      <td>16</td>\n",
       "      <td>3.0</td>\n",
       "      <td>3.0</td>\n",
       "      <td>2.0</td>\n",
       "      <td>0.0</td>\n",
       "      <td>2.0</td>\n",
       "      <td>4.0</td>\n",
       "      <td>U</td>\n",
       "      <td>no</td>\n",
       "      <td>50.0</td>\n",
       "    </tr>\n",
       "    <tr>\n",
       "      <th>...</th>\n",
       "      <td>...</td>\n",
       "      <td>...</td>\n",
       "      <td>...</td>\n",
       "      <td>...</td>\n",
       "      <td>...</td>\n",
       "      <td>...</td>\n",
       "      <td>...</td>\n",
       "      <td>...</td>\n",
       "      <td>...</td>\n",
       "      <td>...</td>\n",
       "    </tr>\n",
       "    <tr>\n",
       "      <th>390</th>\n",
       "      <td>20</td>\n",
       "      <td>2.0</td>\n",
       "      <td>2.0</td>\n",
       "      <td>2.0</td>\n",
       "      <td>2.0</td>\n",
       "      <td>4.0</td>\n",
       "      <td>212.0</td>\n",
       "      <td>U</td>\n",
       "      <td>no</td>\n",
       "      <td>45.0</td>\n",
       "    </tr>\n",
       "    <tr>\n",
       "      <th>391</th>\n",
       "      <td>17</td>\n",
       "      <td>3.0</td>\n",
       "      <td>1.0</td>\n",
       "      <td>1.0</td>\n",
       "      <td>0.0</td>\n",
       "      <td>5.0</td>\n",
       "      <td>3.0</td>\n",
       "      <td>U</td>\n",
       "      <td>no</td>\n",
       "      <td>80.0</td>\n",
       "    </tr>\n",
       "    <tr>\n",
       "      <th>392</th>\n",
       "      <td>21</td>\n",
       "      <td>1.0</td>\n",
       "      <td>1.0</td>\n",
       "      <td>1.0</td>\n",
       "      <td>3.0</td>\n",
       "      <td>3.0</td>\n",
       "      <td>3.0</td>\n",
       "      <td>R</td>\n",
       "      <td>NaN</td>\n",
       "      <td>35.0</td>\n",
       "    </tr>\n",
       "    <tr>\n",
       "      <th>393</th>\n",
       "      <td>18</td>\n",
       "      <td>3.0</td>\n",
       "      <td>2.0</td>\n",
       "      <td>1.0</td>\n",
       "      <td>0.0</td>\n",
       "      <td>1.0</td>\n",
       "      <td>0.0</td>\n",
       "      <td>R</td>\n",
       "      <td>no</td>\n",
       "      <td>50.0</td>\n",
       "    </tr>\n",
       "    <tr>\n",
       "      <th>394</th>\n",
       "      <td>19</td>\n",
       "      <td>1.0</td>\n",
       "      <td>1.0</td>\n",
       "      <td>1.0</td>\n",
       "      <td>0.0</td>\n",
       "      <td>3.0</td>\n",
       "      <td>5.0</td>\n",
       "      <td>U</td>\n",
       "      <td>NaN</td>\n",
       "      <td>45.0</td>\n",
       "    </tr>\n",
       "  </tbody>\n",
       "</table>\n",
       "<p>352 rows × 10 columns</p>\n",
       "</div>"
      ],
      "text/plain": [
       "     age  Medu  Fedu  studytime  failures  goout  absences address schoolsup  \\\n",
       "0     18   4.0   4.0        2.0       0.0    4.0       6.0       U       yes   \n",
       "1     17   1.0   1.0        2.0       0.0    3.0       4.0       U        no   \n",
       "2     15   1.0   1.0        2.0       3.0    2.0      10.0       U       yes   \n",
       "3     15   4.0   2.0        3.0       0.0    2.0       2.0       U        no   \n",
       "4     16   3.0   3.0        2.0       0.0    2.0       4.0       U        no   \n",
       "..   ...   ...   ...        ...       ...    ...       ...     ...       ...   \n",
       "390   20   2.0   2.0        2.0       2.0    4.0     212.0       U        no   \n",
       "391   17   3.0   1.0        1.0       0.0    5.0       3.0       U        no   \n",
       "392   21   1.0   1.0        1.0       3.0    3.0       3.0       R       NaN   \n",
       "393   18   3.0   2.0        1.0       0.0    1.0       0.0       R        no   \n",
       "394   19   1.0   1.0        1.0       0.0    3.0       5.0       U       NaN   \n",
       "\n",
       "     score  \n",
       "0     30.0  \n",
       "1     30.0  \n",
       "2     50.0  \n",
       "3     75.0  \n",
       "4     50.0  \n",
       "..     ...  \n",
       "390   45.0  \n",
       "391   80.0  \n",
       "392   35.0  \n",
       "393   50.0  \n",
       "394   45.0  \n",
       "\n",
       "[352 rows x 10 columns]"
      ]
     },
     "execution_count": 22,
     "metadata": {},
     "output_type": "execute_result"
    }
   ],
   "source": [
    "# Выберем данные по нужным столбцам\n",
    "st2=stud[['age', 'Medu', 'Fedu', 'studytime', 'failures', 'goout', 'absences', 'address', 'schoolsup', 'score']]\n",
    "st2"
   ]
  },
  {
   "cell_type": "markdown",
   "metadata": {},
   "source": [
    "### Работа со столбцами: address и schoolsup"
   ]
  },
  {
   "cell_type": "code",
   "execution_count": 23,
   "metadata": {},
   "outputs": [
    {
     "name": "stdout",
     "output_type": "stream",
     "text": [
      "address\n",
      "R    53.356164\n",
      "U    58.830189\n",
      "Name: score, dtype: float64\n",
      "57.75568181818182\n"
     ]
    }
   ],
   "source": [
    "print(studd.groupby(['address'])['score'].mean())\n",
    "print(studd['score'].mean())"
   ]
  },
  {
   "cell_type": "markdown",
   "metadata": {},
   "source": [
    "У городских детей выше среднего по всей выборке и сильно выше средней оценки детей, живущих не в городе. Поэтому заполним пробелы следующим образом, если оценка выше среднего, то проставим город - U. Если оценка ниже среднего, то проставим - R. Одновременно заменим U на 1, R на 0."
   ]
  },
  {
   "cell_type": "code",
   "execution_count": 24,
   "metadata": {},
   "outputs": [],
   "source": [
    "mean_score=st2.score.mean()\n",
    "st2=st2.copy()\n",
    "for i in st2.index:\n",
    "    if st2.loc[i,'address']=='U':\n",
    "        st2.loc[i,'address']=1\n",
    "    elif st2.loc[i,'address']=='R':\n",
    "        st2.loc[i,'address']=0\n",
    "    else:\n",
    "        if st2.loc[i,'score']>mean_score:\n",
    "            st2.loc[i,'address']=1\n",
    "        else:\n",
    "            st2.loc[i,'address']=0"
   ]
  },
  {
   "cell_type": "code",
   "execution_count": 25,
   "metadata": {},
   "outputs": [
    {
     "data": {
      "text/plain": [
       "1    273\n",
       "0     79\n",
       "Name: address, dtype: int64"
      ]
     },
     "execution_count": 25,
     "metadata": {},
     "output_type": "execute_result"
    }
   ],
   "source": [
    "st2['address'].value_counts()"
   ]
  },
  {
   "cell_type": "code",
   "execution_count": 26,
   "metadata": {},
   "outputs": [
    {
     "name": "stdout",
     "output_type": "stream",
     "text": [
      "schoolsup\n",
      "no     59.610169\n",
      "yes    48.020833\n",
      "Name: score, dtype: float64\n"
     ]
    }
   ],
   "source": [
    "# аналогично заменим пустые значения в поле schoolsup\n",
    "print(studd.groupby(['schoolsup'])['score'].mean())"
   ]
  },
  {
   "cell_type": "code",
   "execution_count": 27,
   "metadata": {},
   "outputs": [],
   "source": [
    "for i in st2.index:\n",
    "    if st2.loc[i,'schoolsup']=='yes':\n",
    "        st2.loc[i,'schoolsup']=1\n",
    "    elif st2.loc[i,'schoolsup']=='no':\n",
    "        st2.loc[i,'schoolsup']=0\n",
    "        continue\n",
    "    else:\n",
    "        if st2.loc[i,'schoolsup']>mean_score:\n",
    "            st2.loc[i,'schoolsup']=0\n",
    "        else:\n",
    "            st2.loc[i,'schoolsup']=1"
   ]
  },
  {
   "cell_type": "code",
   "execution_count": 28,
   "metadata": {},
   "outputs": [
    {
     "name": "stdout",
     "output_type": "stream",
     "text": [
      "<class 'pandas.core.frame.DataFrame'>\n",
      "Int64Index: 352 entries, 0 to 394\n",
      "Data columns (total 10 columns):\n",
      " #   Column     Non-Null Count  Dtype  \n",
      "---  ------     --------------  -----  \n",
      " 0   age        352 non-null    int64  \n",
      " 1   Medu       350 non-null    float64\n",
      " 2   Fedu       331 non-null    float64\n",
      " 3   studytime  345 non-null    float64\n",
      " 4   failures   332 non-null    float64\n",
      " 5   goout      346 non-null    float64\n",
      " 6   absences   342 non-null    float64\n",
      " 7   address    352 non-null    object \n",
      " 8   schoolsup  352 non-null    object \n",
      " 9   score      352 non-null    float64\n",
      "dtypes: float64(7), int64(1), object(2)\n",
      "memory usage: 35.5+ KB\n"
     ]
    }
   ],
   "source": [
    "st2.info()"
   ]
  },
  {
   "cell_type": "markdown",
   "metadata": {},
   "source": [
    "### Работа со столбцами Fedu и Medu"
   ]
  },
  {
   "cell_type": "code",
   "execution_count": 29,
   "metadata": {},
   "outputs": [
    {
     "name": "stdout",
     "output_type": "stream",
     "text": [
      "Fedu\n",
      "0.0     65.000000\n",
      "1.0     53.461538\n",
      "2.0     57.819149\n",
      "3.0     57.078652\n",
      "4.0     61.250000\n",
      "40.0    60.000000\n",
      "Name: score, dtype: float64\n"
     ]
    },
    {
     "data": {
      "text/plain": [
       "2.0     94\n",
       "3.0     89\n",
       "4.0     80\n",
       "1.0     65\n",
       "0.0      2\n",
       "40.0     1\n",
       "Name: Fedu, dtype: int64"
      ]
     },
     "execution_count": 29,
     "metadata": {},
     "output_type": "execute_result"
    }
   ],
   "source": [
    "print(st2.groupby(['Fedu'])['score'].mean())\n",
    "st2['Fedu'].value_counts()"
   ]
  },
  {
   "cell_type": "markdown",
   "metadata": {},
   "source": [
    "В столбце Fedu есть одно значение - 40, ему соответствует оценка 60. Кроме этого есть два значения 0, которым соответствует оценка 65. Если посмотреть на группировку, то видим, что чем выше образование отца, тем выше оценка ученика. Вопрос, что делать с этими тремя выбросами.Предполагаю, что 40 - это значение 4, заполненное с ошибкой, а 0 заменю на 4."
   ]
  },
  {
   "cell_type": "code",
   "execution_count": 30,
   "metadata": {},
   "outputs": [],
   "source": [
    "st2.loc[:,'Fedu']=st2.loc[:,'Fedu'].apply(lambda x: 4 if x>4 or x==0 else x)\n",
    "st2.loc[:,'Fedu']=st2.loc[:,'Fedu'].apply(lambda x: x if x>0 else 2)"
   ]
  },
  {
   "cell_type": "code",
   "execution_count": 31,
   "metadata": {},
   "outputs": [
    {
     "name": "stdout",
     "output_type": "stream",
     "text": [
      "Medu\n",
      "0.0    65.000000\n",
      "1.0    51.382979\n",
      "2.0    56.363636\n",
      "3.0    57.183908\n",
      "4.0    61.640000\n",
      "Name: score, dtype: float64\n"
     ]
    },
    {
     "data": {
      "text/plain": [
       "4.0    125\n",
       "2.0     88\n",
       "3.0     87\n",
       "1.0     47\n",
       "0.0      3\n",
       "Name: Medu, dtype: int64"
      ]
     },
     "execution_count": 31,
     "metadata": {},
     "output_type": "execute_result"
    }
   ],
   "source": [
    "print(st2.groupby(['Medu'])['score'].mean())\n",
    "st2['Medu'].value_counts()"
   ]
  },
  {
   "cell_type": "code",
   "execution_count": 32,
   "metadata": {},
   "outputs": [],
   "source": [
    "st2.loc[:,'Medu']=st2.loc[:,'Medu'].apply(lambda x: 4 if x==0 else x)\n",
    "st2.loc[:,'Medu']=st2.loc[:,'Medu'].apply(lambda x: x if x>0 else 2)"
   ]
  },
  {
   "cell_type": "code",
   "execution_count": 33,
   "metadata": {},
   "outputs": [
    {
     "name": "stdout",
     "output_type": "stream",
     "text": [
      "<class 'pandas.core.frame.DataFrame'>\n",
      "Int64Index: 352 entries, 0 to 394\n",
      "Data columns (total 10 columns):\n",
      " #   Column     Non-Null Count  Dtype  \n",
      "---  ------     --------------  -----  \n",
      " 0   age        352 non-null    int64  \n",
      " 1   Medu       352 non-null    float64\n",
      " 2   Fedu       352 non-null    float64\n",
      " 3   studytime  345 non-null    float64\n",
      " 4   failures   332 non-null    float64\n",
      " 5   goout      346 non-null    float64\n",
      " 6   absences   342 non-null    float64\n",
      " 7   address    352 non-null    object \n",
      " 8   schoolsup  352 non-null    object \n",
      " 9   score      352 non-null    float64\n",
      "dtypes: float64(7), int64(1), object(2)\n",
      "memory usage: 35.5+ KB\n"
     ]
    }
   ],
   "source": [
    "st2.info()"
   ]
  },
  {
   "cell_type": "markdown",
   "metadata": {},
   "source": [
    "### Работа со столбцом absences"
   ]
  },
  {
   "cell_type": "code",
   "execution_count": 34,
   "metadata": {},
   "outputs": [
    {
     "data": {
      "text/plain": [
       "0.0      74\n",
       "2.0      60\n",
       "4.0      52\n",
       "6.0      30\n",
       "8.0      20\n",
       "10.0     17\n",
       "12.0     12\n",
       "14.0     12\n",
       "3.0       7\n",
       "16.0      7\n",
       "7.0       6\n",
       "5.0       5\n",
       "18.0      5\n",
       "20.0      4\n",
       "22.0      3\n",
       "9.0       3\n",
       "1.0       3\n",
       "15.0      2\n",
       "13.0      2\n",
       "11.0      2\n",
       "25.0      1\n",
       "54.0      1\n",
       "385.0     1\n",
       "26.0      1\n",
       "56.0      1\n",
       "24.0      1\n",
       "212.0     1\n",
       "21.0      1\n",
       "75.0      1\n",
       "30.0      1\n",
       "19.0      1\n",
       "38.0      1\n",
       "40.0      1\n",
       "23.0      1\n",
       "17.0      1\n",
       "28.0      1\n",
       "Name: absences, dtype: int64"
      ]
     },
     "execution_count": 34,
     "metadata": {},
     "output_type": "execute_result"
    }
   ],
   "source": [
    "st2['absences'].value_counts()"
   ]
  },
  {
   "cell_type": "code",
   "execution_count": 35,
   "metadata": {},
   "outputs": [
    {
     "data": {
      "text/plain": [
       "<matplotlib.axes._subplots.AxesSubplot at 0x8c2d390>"
      ]
     },
     "execution_count": 35,
     "metadata": {},
     "output_type": "execute_result"
    },
    {
     "data": {
      "image/png": "[encoded data removed]",
      "text/plain": [
       "<Figure size 432x288 with 1 Axes>"
      ]
     },
     "metadata": {
      "needs_background": "light"
     },
     "output_type": "display_data"
    }
   ],
   "source": [
    "st2['absences'].hist()"
   ]
  },
  {
   "cell_type": "markdown",
   "metadata": {},
   "source": [
    "Есть два аномально больших значения 385 и 212. Заменим эти два выброса на среднее значение без учета этих выбросов"
   ]
  },
  {
   "cell_type": "code",
   "execution_count": 36,
   "metadata": {},
   "outputs": [],
   "source": [
    "mean_ab=st2[st2['absences']<100]['absences'].mean()\n",
    "st2.loc[:,'absences']=st2.loc[:,'absences'].apply(lambda x: x if x<100 else mean_ab)"
   ]
  },
  {
   "cell_type": "markdown",
   "metadata": {},
   "source": [
    "### Работа со столбцами studytime, failures, goout   "
   ]
  },
  {
   "cell_type": "code",
   "execution_count": 37,
   "metadata": {},
   "outputs": [
    {
     "name": "stdout",
     "output_type": "stream",
     "text": [
      "2.046376811594203\n"
     ]
    },
    {
     "data": {
      "text/plain": [
       "2.0    173\n",
       "1.0     90\n",
       "3.0     58\n",
       "4.0     24\n",
       "Name: studytime, dtype: int64"
      ]
     },
     "execution_count": 37,
     "metadata": {},
     "output_type": "execute_result"
    }
   ],
   "source": [
    "print(st2['studytime'].mean())\n",
    "st2['studytime'].value_counts()"
   ]
  },
  {
   "cell_type": "code",
   "execution_count": 38,
   "metadata": {},
   "outputs": [],
   "source": [
    "st2.loc[:,'studytime']=st2.loc[:,'studytime'].apply(lambda x: x if x>0 else 2)"
   ]
  },
  {
   "cell_type": "code",
   "execution_count": 39,
   "metadata": {},
   "outputs": [
    {
     "name": "stdout",
     "output_type": "stream",
     "text": [
      "failures\n",
      "0.0    59.542125\n",
      "1.0    50.526316\n",
      "2.0    44.090909\n",
      "3.0    41.500000\n",
      "Name: score, dtype: float64\n",
      "0.2710843373493976\n"
     ]
    },
    {
     "data": {
      "text/plain": [
       "0.0    273\n",
       "1.0     38\n",
       "2.0     11\n",
       "3.0     10\n",
       "Name: failures, dtype: int64"
      ]
     },
     "execution_count": 39,
     "metadata": {},
     "output_type": "execute_result"
    }
   ],
   "source": [
    "print(st2.groupby(['failures'])['score'].mean())\n",
    "print(st2['failures'].mean())\n",
    "st2['failures'].value_counts()"
   ]
  },
  {
   "cell_type": "code",
   "execution_count": 40,
   "metadata": {},
   "outputs": [],
   "source": [
    "st2.loc[:,'failures']=st2.loc[:,'failures'].apply(lambda x: x if x>0 else 0)"
   ]
  },
  {
   "cell_type": "code",
   "execution_count": 41,
   "metadata": {},
   "outputs": [
    {
     "name": "stdout",
     "output_type": "stream",
     "text": [
      "goout\n",
      "1.0    59.736842\n",
      "2.0    61.467391\n",
      "3.0    58.898305\n",
      "4.0    54.189189\n",
      "5.0    52.790698\n",
      "Name: score, dtype: float64\n",
      "3.086705202312139\n"
     ]
    },
    {
     "data": {
      "text/plain": [
       "3.0    118\n",
       "2.0     92\n",
       "4.0     74\n",
       "5.0     43\n",
       "1.0     19\n",
       "Name: goout, dtype: int64"
      ]
     },
     "execution_count": 41,
     "metadata": {},
     "output_type": "execute_result"
    }
   ],
   "source": [
    "print(st2.groupby(['goout'])['score'].mean())\n",
    "print(st2['goout'].mean())\n",
    "st2['goout'].value_counts()"
   ]
  },
  {
   "cell_type": "code",
   "execution_count": 42,
   "metadata": {},
   "outputs": [],
   "source": [
    "st2.loc[:,'goout']=st2.loc[:,'goout'].apply(lambda x: x if x>0 else 3)"
   ]
  },
  {
   "cell_type": "code",
   "execution_count": 43,
   "metadata": {},
   "outputs": [
    {
     "name": "stdout",
     "output_type": "stream",
     "text": [
      "<class 'pandas.core.frame.DataFrame'>\n",
      "Int64Index: 352 entries, 0 to 394\n",
      "Data columns (total 10 columns):\n",
      " #   Column     Non-Null Count  Dtype  \n",
      "---  ------     --------------  -----  \n",
      " 0   age        352 non-null    int64  \n",
      " 1   Medu       352 non-null    float64\n",
      " 2   Fedu       352 non-null    float64\n",
      " 3   studytime  352 non-null    float64\n",
      " 4   failures   352 non-null    float64\n",
      " 5   goout      352 non-null    float64\n",
      " 6   absences   352 non-null    float64\n",
      " 7   address    352 non-null    object \n",
      " 8   schoolsup  352 non-null    object \n",
      " 9   score      352 non-null    float64\n",
      "dtypes: float64(7), int64(1), object(2)\n",
      "memory usage: 35.5+ KB\n"
     ]
    }
   ],
   "source": [
    "# проверим, что данные не имеют пропусков\n",
    "st2.info()"
   ]
  },
  {
   "cell_type": "markdown",
   "metadata": {},
   "source": [
    "## 5. Корреляционный анализ с учетом заполненных пробелов"
   ]
  },
  {
   "cell_type": "code",
   "execution_count": 44,
   "metadata": {},
   "outputs": [
    {
     "name": "stdout",
     "output_type": "stream",
     "text": [
      "(-0.13154198250524177, 0.013514729199821881) корреляция для age\n",
      "(0.2090345016590381, 7.762201878366022e-05) корреляция для Medu\n",
      "(0.13652179936318004, 0.010338945286843612) корреляция для Fedu\n",
      "(0.13960519382905912, 0.008721946620374593) корреляция для studytime\n",
      "(-0.28692467393145993, 4.2610113324366604e-08) корреляция для failures\n",
      "(-0.1799128565133406, 0.0006959487545815839) корреляция для goout\n",
      "(-0.20930892712009203, 7.591866107404308e-05) корреляция для absences\n",
      "(0.15687043230183845, 0.0031677504267289634) корреляция для address\n",
      "(-0.2607806869745593, 6.999214014138175e-07) корреляция для schoolsup\n"
     ]
    }
   ],
   "source": [
    "# еще раз считаем корреляцию и p-value\n",
    "col_2=st2.columns.tolist()\n",
    "for i in col_2[:-1]:\n",
    "    basa_2=st2[[i,'score']]\n",
    "    cor_2=pearsonr(basa_2[i],basa_2['score'])\n",
    "    print(cor_2, 'корреляция для', i)"
   ]
  },
  {
   "cell_type": "markdown",
   "metadata": {},
   "source": [
    "После заполнения пропусков корреляция сохранилась, значит заполнение было произведено корректно (можно попытаться еще улучшить качество замены, но сейчас тайкой задачи не стоит)."
   ]
  },
  {
   "cell_type": "code",
   "execution_count": 45,
   "metadata": {},
   "outputs": [
    {
     "data": {
      "text/html": [
       "<div>\n",
       "<style scoped>\n",
       "    .dataframe tbody tr th:only-of-type {\n",
       "        vertical-align: middle;\n",
       "    }\n",
       "\n",
       "    .dataframe tbody tr th {\n",
       "        vertical-align: top;\n",
       "    }\n",
       "\n",
       "    .dataframe thead th {\n",
       "        text-align: right;\n",
       "    }\n",
       "</style>\n",
       "<table border=\"1\" class=\"dataframe\">\n",
       "  <thead>\n",
       "    <tr style=\"text-align: right;\">\n",
       "      <th></th>\n",
       "      <th>age</th>\n",
       "      <th>Medu</th>\n",
       "      <th>Fedu</th>\n",
       "      <th>studytime</th>\n",
       "      <th>failures</th>\n",
       "      <th>goout</th>\n",
       "      <th>absences</th>\n",
       "      <th>score</th>\n",
       "    </tr>\n",
       "  </thead>\n",
       "  <tbody>\n",
       "    <tr>\n",
       "      <th>age</th>\n",
       "      <td>1.000000</td>\n",
       "      <td>-0.105612</td>\n",
       "      <td>-0.141865</td>\n",
       "      <td>-0.011270</td>\n",
       "      <td>0.236688</td>\n",
       "      <td>0.123597</td>\n",
       "      <td>0.206742</td>\n",
       "      <td>-0.131542</td>\n",
       "    </tr>\n",
       "    <tr>\n",
       "      <th>Medu</th>\n",
       "      <td>-0.105612</td>\n",
       "      <td>1.000000</td>\n",
       "      <td>0.561822</td>\n",
       "      <td>0.072538</td>\n",
       "      <td>-0.171366</td>\n",
       "      <td>0.061288</td>\n",
       "      <td>0.052103</td>\n",
       "      <td>0.209035</td>\n",
       "    </tr>\n",
       "    <tr>\n",
       "      <th>Fedu</th>\n",
       "      <td>-0.141865</td>\n",
       "      <td>0.561822</td>\n",
       "      <td>1.000000</td>\n",
       "      <td>0.011013</td>\n",
       "      <td>-0.266005</td>\n",
       "      <td>0.024690</td>\n",
       "      <td>0.021973</td>\n",
       "      <td>0.136522</td>\n",
       "    </tr>\n",
       "    <tr>\n",
       "      <th>studytime</th>\n",
       "      <td>-0.011270</td>\n",
       "      <td>0.072538</td>\n",
       "      <td>0.011013</td>\n",
       "      <td>1.000000</td>\n",
       "      <td>-0.147551</td>\n",
       "      <td>-0.029597</td>\n",
       "      <td>-0.077445</td>\n",
       "      <td>0.139605</td>\n",
       "    </tr>\n",
       "    <tr>\n",
       "      <th>failures</th>\n",
       "      <td>0.236688</td>\n",
       "      <td>-0.171366</td>\n",
       "      <td>-0.266005</td>\n",
       "      <td>-0.147551</td>\n",
       "      <td>1.000000</td>\n",
       "      <td>0.122500</td>\n",
       "      <td>0.128159</td>\n",
       "      <td>-0.286925</td>\n",
       "    </tr>\n",
       "    <tr>\n",
       "      <th>goout</th>\n",
       "      <td>0.123597</td>\n",
       "      <td>0.061288</td>\n",
       "      <td>0.024690</td>\n",
       "      <td>-0.029597</td>\n",
       "      <td>0.122500</td>\n",
       "      <td>1.000000</td>\n",
       "      <td>0.043646</td>\n",
       "      <td>-0.179913</td>\n",
       "    </tr>\n",
       "    <tr>\n",
       "      <th>absences</th>\n",
       "      <td>0.206742</td>\n",
       "      <td>0.052103</td>\n",
       "      <td>0.021973</td>\n",
       "      <td>-0.077445</td>\n",
       "      <td>0.128159</td>\n",
       "      <td>0.043646</td>\n",
       "      <td>1.000000</td>\n",
       "      <td>-0.209309</td>\n",
       "    </tr>\n",
       "    <tr>\n",
       "      <th>score</th>\n",
       "      <td>-0.131542</td>\n",
       "      <td>0.209035</td>\n",
       "      <td>0.136522</td>\n",
       "      <td>0.139605</td>\n",
       "      <td>-0.286925</td>\n",
       "      <td>-0.179913</td>\n",
       "      <td>-0.209309</td>\n",
       "      <td>1.000000</td>\n",
       "    </tr>\n",
       "  </tbody>\n",
       "</table>\n",
       "</div>"
      ],
      "text/plain": [
       "                age      Medu      Fedu  studytime  failures     goout  \\\n",
       "age        1.000000 -0.105612 -0.141865  -0.011270  0.236688  0.123597   \n",
       "Medu      -0.105612  1.000000  0.561822   0.072538 -0.171366  0.061288   \n",
       "Fedu      -0.141865  0.561822  1.000000   0.011013 -0.266005  0.024690   \n",
       "studytime -0.011270  0.072538  0.011013   1.000000 -0.147551 -0.029597   \n",
       "failures   0.236688 -0.171366 -0.266005  -0.147551  1.000000  0.122500   \n",
       "goout      0.123597  0.061288  0.024690  -0.029597  0.122500  1.000000   \n",
       "absences   0.206742  0.052103  0.021973  -0.077445  0.128159  0.043646   \n",
       "score     -0.131542  0.209035  0.136522   0.139605 -0.286925 -0.179913   \n",
       "\n",
       "           absences     score  \n",
       "age        0.206742 -0.131542  \n",
       "Medu       0.052103  0.209035  \n",
       "Fedu       0.021973  0.136522  \n",
       "studytime -0.077445  0.139605  \n",
       "failures   0.128159 -0.286925  \n",
       "goout      0.043646 -0.179913  \n",
       "absences   1.000000 -0.209309  \n",
       "score     -0.209309  1.000000  "
      ]
     },
     "execution_count": 45,
     "metadata": {},
     "output_type": "execute_result"
    }
   ],
   "source": [
    "# посмотрим на попарную корреляцию еще раз\n",
    "st2.corr()"
   ]
  },
  {
   "cell_type": "code",
   "execution_count": 46,
   "metadata": {},
   "outputs": [
    {
     "data": {
      "text/plain": [
       "(0.5618224624815236, 1.1263466890108218e-30)"
      ]
     },
     "execution_count": 46,
     "metadata": {},
     "output_type": "execute_result"
    }
   ],
   "source": [
    "# проверим связь между Medu и Fedu\n",
    "pearsonr(st2['Medu'],st2['Fedu'])"
   ]
  },
  {
   "cell_type": "markdown",
   "metadata": {},
   "source": [
    "Безусловно связь между этими двумя показателями есть. Но говорить, что один из них можно убрать наверное нельзя. Скорее это говорит о предпочтениях в выборе пары при образовании семьи."
   ]
  },
  {
   "cell_type": "code",
   "execution_count": 47,
   "metadata": {},
   "outputs": [],
   "source": [
    "st2['Edu']=st['Medu']+st['Fedu']"
   ]
  },
  {
   "cell_type": "code",
   "execution_count": 48,
   "metadata": {},
   "outputs": [
    {
     "data": {
      "text/plain": [
       "(0.1644228727474511, 0.0047057279028522945)"
      ]
     },
     "execution_count": 48,
     "metadata": {},
     "output_type": "execute_result"
    }
   ],
   "source": [
    "st3=st2[['Edu','score']]\n",
    "st3=st3.dropna()\n",
    "pearsonr(st3['Edu'],st3['score'])"
   ]
  },
  {
   "cell_type": "markdown",
   "metadata": {},
   "source": [
    "## 6. Выводы"
   ]
  },
  {
   "cell_type": "markdown",
   "metadata": {},
   "source": [
    "Итоговый список столбцов для построения модели: score, age, (Medu и Fedu) в некоторой комбинации между собой, studytime, failures, goout, absences, address, schoolsup.\n",
    "Выборка значимых столбцов:\n",
    "Столбец score изначально содержал пустые значения. Их мы удаляем из-за высокой значимости. \n",
    "Столбцы age, studytime, failures содержат выбросы. Но они в пределах референтных значений, поэтому оставляем. \n",
    "Столбец absences содержит очень сильные выбросы (два значения 352 и 212), их убираем. \n",
    "При попарном сопоставлении выборка получается хорошей для анализа. \n",
    "Корреляция расчитана попарным сопоставлением со столбцом score c удалением пустых значений. Выборка этих переменных сделана с учетом значения p-value ниже 0,05. Из расчета убран столбец studytime, granular, так как он 100% коррелируется с переменной srudytime.\n",
    "Далее, чтобы строить модель нужно иметь как можно большую выборку данных. Для этого преобразовываю данные путем замены выбросов и пустот на нужные значения. И получаю итоговые данные. Набор данных включает в себя 352 строки в соответствии с количеством непустых значений по полю score."
   ]
  },
  {
   "cell_type": "code",
   "execution_count": null,
   "metadata": {},
   "outputs": [],
   "source": []
  }
 ],
 "metadata": {
  "kernelspec": {
   "display_name": "Python 3",
   "language": "python",
   "name": "python3"
  },
  "language_info": {
   "codemirror_mode": {
    "name": "ipython",
    "version": 3
   },
   "file_extension": ".py",
   "mimetype": "text/x-python",
   "name": "python",
   "nbconvert_exporter": "python",
   "pygments_lexer": "ipython3",
   "version": "3.7.6"
  }
 },
 "nbformat": 4,
 "nbformat_minor": 4
}
